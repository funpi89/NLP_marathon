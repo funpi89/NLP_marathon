{
 "cells": [
  {
   "cell_type": "markdown",
   "metadata": {},
   "source": [
    "# 作業 : 調整 word2vec 模型的不同訓練參數"
   ]
  },
  {
   "cell_type": "markdown",
   "metadata": {},
   "source": [
    "# [作業目標]\n",
    "- 調整 word2vec 模型的不同參數, 分別觀察效果並比較"
   ]
  },
  {
   "cell_type": "markdown",
   "metadata": {},
   "source": [
    "# [作業重點]\n",
    "- 調整 word2vec 模型的不同訓練參數, 分別觀察效果並比較"
   ]
  },
  {
   "cell_type": "code",
   "execution_count": 3,
   "metadata": {},
   "outputs": [],
   "source": [
    "# 載入 gensim 與 word2vec 模型\n",
    "import gensim\n",
    "from gensim.models import word2vec\n",
    "\n",
    "# 忽略警告訊息\n",
    "import warnings\n",
    "warnings.filterwarnings(\"ignore\")"
   ]
  },
  {
   "cell_type": "markdown",
   "metadata": {},
   "source": [
    "# Word2Vec 訓練參數\n",
    "- size : 詞向量的維度\n",
    "- min_count : 最小次數，一個詞出現的次數若小於 min_count，則拋棄不參與訓練。\n",
    "- window : 訓練窗格大小，也就是一個詞在看上下文關係時，上下應該各看幾個字的意思。\n",
    "- 更多參數說明，請參閱官方文件\n",
    "https://radimrehurek.com/gensim/models/word2vec.html#gensim.models.word2vec.Text8Corpus"
   ]
  },
  {
   "cell_type": "code",
   "execution_count": 5,
   "metadata": {},
   "outputs": [],
   "source": [
    "# 使用 gensim 訓練 word2vec 詞向量\n",
    "sentences = word2vec.Text8Corpus('text8')\n",
    "# model = word2vec.Word2Vec(sentences, size=10)\n",
    "model = word2vec.Word2Vec(sentences, size=10, min_count=3, window=5)"
   ]
  },
  {
   "cell_type": "code",
   "execution_count": 6,
   "metadata": {},
   "outputs": [],
   "source": [
    "# 以\"二進位模式\"儲存與讀取模型\n",
    "model.wv.save_word2vec_format('text.model.bin', binary=True)\n",
    "model2=gensim.models.KeyedVectors.load_word2vec_format('text.model.bin', binary=True)"
   ]
  },
  {
   "cell_type": "code",
   "execution_count": 7,
   "metadata": {},
   "outputs": [
    {
     "data": {
      "text/plain": [
       "[('siblings', 0.9379875659942627),\n",
       " ('angry', 0.9377115964889526),\n",
       " ('love', 0.9284119606018066),\n",
       " ('husband', 0.9207130670547485),\n",
       " ('angels', 0.9136302471160889),\n",
       " ('dressed', 0.9109096527099609),\n",
       " ('vengeance', 0.9109046459197998),\n",
       " ('sing', 0.9102321267127991),\n",
       " ('lunchbox', 0.9050151109695435),\n",
       " ('alive', 0.9040752649307251)]"
      ]
     },
     "execution_count": 7,
     "metadata": {},
     "output_type": "execute_result"
    }
   ],
   "source": [
    "# 顯示最相近的字彙\n",
    "model2.most_similar(['woman'])"
   ]
  },
  {
   "cell_type": "code",
   "execution_count": 8,
   "metadata": {},
   "outputs": [
    {
     "data": {
      "text/plain": [
       "[('deposed', 0.9544662237167358),\n",
       " ('consul', 0.9539451599121094),\n",
       " ('empress', 0.9276454448699951),\n",
       " ('crowned', 0.9263619184494019),\n",
       " ('teachta', 0.9258994460105896)]"
      ]
     },
     "execution_count": 8,
     "metadata": {},
     "output_type": "execute_result"
    }
   ],
   "source": [
    "# 顯示最相近的字彙(附加反義詞)\n",
    "model2.most_similar(positive=['woman', 'king'], negative=['man'], topn=5)"
   ]
  },
  {
   "cell_type": "code",
   "execution_count": 9,
   "metadata": {},
   "outputs": [
    {
     "data": {
      "text/plain": [
       "'cereal'"
      ]
     },
     "execution_count": 9,
     "metadata": {},
     "output_type": "execute_result"
    }
   ],
   "source": [
    "# 挑選最不相同的字彙\n",
    "model2.wv.doesnt_match(\"breakfast cereal dinner lunch\".split())"
   ]
  },
  {
   "cell_type": "code",
   "execution_count": 10,
   "metadata": {},
   "outputs": [
    {
     "data": {
      "text/plain": [
       "0.87521"
      ]
     },
     "execution_count": 10,
     "metadata": {},
     "output_type": "execute_result"
    }
   ],
   "source": [
    "# 顯示字彙間的相似性\n",
    "model2.wv.similarity('woman', 'man')"
   ]
  },
  {
   "cell_type": "code",
   "execution_count": 11,
   "metadata": {},
   "outputs": [
    {
     "data": {
      "text/plain": [
       "array([-1.0487133,  1.547617 ,  1.9986537,  0.7706965,  2.7908463,\n",
       "       -5.6822715, -5.0828767,  2.0989594, -3.63605  ,  4.7666445],\n",
       "      dtype=float32)"
      ]
     },
     "execution_count": 11,
     "metadata": {},
     "output_type": "execute_result"
    }
   ],
   "source": [
    "# 顯示字彙的詞向量\n",
    "model2['computer']"
   ]
  },
  {
   "cell_type": "code",
   "execution_count": null,
   "metadata": {},
   "outputs": [],
   "source": []
  }
 ],
 "metadata": {
  "kernelspec": {
   "display_name": "Python 3",
   "language": "python",
   "name": "python3"
  },
  "language_info": {
   "codemirror_mode": {
    "name": "ipython",
    "version": 3
   },
   "file_extension": ".py",
   "mimetype": "text/x-python",
   "name": "python",
   "nbconvert_exporter": "python",
   "pygments_lexer": "ipython3",
   "version": "3.7.9"
  }
 },
 "nbformat": 4,
 "nbformat_minor": 2
}
