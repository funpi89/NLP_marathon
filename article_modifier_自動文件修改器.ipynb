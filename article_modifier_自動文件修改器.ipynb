{
 "cells": [
  {
   "cell_type": "code",
   "execution_count": 1,
   "metadata": {},
   "outputs": [],
   "source": [
    "import nltk\n",
    "import random\n",
    "import numpy as np\n",
    "\n",
    "from bs4 import BeautifulSoup\n",
    "\n",
    "\n",
    "# load the reviews\n",
    "positive_reviews = BeautifulSoup(open('sorted_data_acl/electronics/positive.review', encoding='ISO-8859-1').read(), \"lxml\")\n",
    "positive_reviews = positive_reviews.findAll('review_text')"
   ]
  },
  {
   "cell_type": "code",
   "execution_count": 2,
   "metadata": {},
   "outputs": [],
   "source": [
    "# 提出 三連詞 並置入字典\n",
    "# (w1, w3) 當作 key, [ w2 ] 當作值\n",
    "trigrams = {}\n",
    "for review in positive_reviews:\n",
    "    s = review.text.lower()\n",
    "    tokens = nltk.tokenize.word_tokenize(s)\n",
    "    for i in range(len(tokens) - 2):\n",
    "        k = (tokens[i], tokens[i+2])\n",
    "        if k not in trigrams:\n",
    "            trigrams[k] = []\n",
    "        trigrams[k].append(tokens[i+1])\n",
    "\n",
    "# 將中間字矩陣變成或然率向量\n",
    "trigram_probabilities = {}\n",
    "for k, words in (trigrams.items()):\n",
    "    # 產生一個  word -> count 字典\n",
    "    if len(set(words)) > 1:\n",
    "        # 如果中間字middle word不只有一個機率 \n",
    "        d = {}\n",
    "        n = 0\n",
    "        for w in words:\n",
    "            if w not in d:\n",
    "                d[w] = 0\n",
    "            d[w] += 1\n",
    "            n += 1\n",
    "        for w, c in (d.items()):\n",
    "            d[w] = float(c) / n\n",
    "        trigram_probabilities[k] = d"
   ]
  },
  {
   "cell_type": "code",
   "execution_count": 3,
   "metadata": {},
   "outputs": [],
   "source": [
    "def random_sample(d):\n",
    "    # 從字典隨機選出一個帶機率值的樣本，回傳累積機率值最大的字\n",
    "    r = random.random()\n",
    "    cumulative = 0\n",
    "    for w, p in (d.items()):\n",
    "        cumulative += p\n",
    "        if r < cumulative:\n",
    "            return w"
   ]
  },
  {
   "cell_type": "code",
   "execution_count": 4,
   "metadata": {},
   "outputs": [],
   "source": [
    "def test_spinner():\n",
    "    review = random.choice(positive_reviews)\n",
    "    s = review.text.lower()\n",
    "    print(\"Original:\", s)\n",
    "    tokens = nltk.tokenize.word_tokenize(s)\n",
    "    for i in range(len(tokens) - 2):\n",
    "        if random.random() < 0.2: # 20% chance of replacement\n",
    "            k = (tokens[i], tokens[i+2])\n",
    "            if k in trigram_probabilities:\n",
    "                w = random_sample(trigram_probabilities[k])\n",
    "                tokens[i+1] = w\n",
    "    print(\"Spun:\")\n",
    "    print(\" \".join(tokens).replace(\" .\", \".\").replace(\" '\", \"'\").replace(\" ,\", \",\").replace(\"$ \", \"$\").replace(\" !\", \"!\"))"
   ]
  },
  {
   "cell_type": "code",
   "execution_count": 5,
   "metadata": {},
   "outputs": [
    {
     "name": "stdout",
     "output_type": "stream",
     "text": [
      "Original: \n",
      "this phone has excellent voice quality, including in conference mode. the only reasons it doesn't get 5 stars from me is that :\n",
      "a) it is unable to operate if there is a power outage - as opposed to perhaps just losing some of its functionality . just make sure it isn't the only phone in your home.\n",
      "b) there is a bug which occasionnally renders it unable to operate. i can't figure out what causes it. it may be my cats that walk on it at night and press a weird sequence wit their paws :). the only cure i have found is to pull the power plug, which reboots it\n",
      "\n",
      "Spun:\n",
      "this system has excellent product quality, including in raw mode. the only reasons it does n't get 5 stars from me is that : a ) it is unable to operate if there is a power outage - as opposed to perhaps just losing some of its functionality. just be because it is n't the only phone in your home. b ) there is a bug which occasionnally renders it unable to operate. you ca n't figure out what causes it. it may be my cats that are that it at night and press a weird sequence wit their paws : ). the only cure i have found is to watch the power plug, which makes it\n"
     ]
    }
   ],
   "source": [
    "test_spinner()"
   ]
  },
  {
   "cell_type": "code",
   "execution_count": null,
   "metadata": {},
   "outputs": [],
   "source": []
  }
 ],
 "metadata": {
  "kernelspec": {
   "display_name": "Python 3",
   "language": "python",
   "name": "python3"
  },
  "language_info": {
   "codemirror_mode": {
    "name": "ipython",
    "version": 3
   },
   "file_extension": ".py",
   "mimetype": "text/x-python",
   "name": "python",
   "nbconvert_exporter": "python",
   "pygments_lexer": "ipython3",
   "version": "3.7.9"
  }
 },
 "nbformat": 4,
 "nbformat_minor": 4
}
