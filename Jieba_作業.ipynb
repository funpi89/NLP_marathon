{
 "cells": [
  {
   "cell_type": "markdown",
   "metadata": {},
   "source": [
    "## 作業目標: 使用Jieba進行各項的斷詞操作\n",
    "\n",
    "這份作業我們會使用中文飯店評論資料集來作為斷詞練習。 [資料集:ChnSentiCorp_htl_all](https://github.com/SophonPlus/ChineseNlpCorpus)"
   ]
  },
  {
   "cell_type": "markdown",
   "metadata": {},
   "source": [
    "### 讀入文本資料"
   ]
  },
  {
   "cell_type": "code",
   "execution_count": 1,
   "metadata": {},
   "outputs": [
    {
     "data": {
      "text/html": [
       "<div>\n",
       "<style scoped>\n",
       "    .dataframe tbody tr th:only-of-type {\n",
       "        vertical-align: middle;\n",
       "    }\n",
       "\n",
       "    .dataframe tbody tr th {\n",
       "        vertical-align: top;\n",
       "    }\n",
       "\n",
       "    .dataframe thead th {\n",
       "        text-align: right;\n",
       "    }\n",
       "</style>\n",
       "<table border=\"1\" class=\"dataframe\">\n",
       "  <thead>\n",
       "    <tr style=\"text-align: right;\">\n",
       "      <th></th>\n",
       "      <th>label</th>\n",
       "      <th>review</th>\n",
       "    </tr>\n",
       "  </thead>\n",
       "  <tbody>\n",
       "    <tr>\n",
       "      <th>0</th>\n",
       "      <td>1</td>\n",
       "      <td>距离川沙公路较近,但是公交指示不对,如果是\"蔡陆线\"的话,会非常麻烦.建议用别的路线.房间较...</td>\n",
       "    </tr>\n",
       "    <tr>\n",
       "      <th>1</th>\n",
       "      <td>1</td>\n",
       "      <td>商务大床房，房间很大，床有2M宽，整体感觉经济实惠不错!</td>\n",
       "    </tr>\n",
       "    <tr>\n",
       "      <th>2</th>\n",
       "      <td>1</td>\n",
       "      <td>早餐太差，无论去多少人，那边也不加食品的。酒店应该重视一下这个问题了。房间本身很好。</td>\n",
       "    </tr>\n",
       "    <tr>\n",
       "      <th>3</th>\n",
       "      <td>1</td>\n",
       "      <td>宾馆在小街道上，不大好找，但还好北京热心同胞很多~宾馆设施跟介绍的差不多，房间很小，确实挺小...</td>\n",
       "    </tr>\n",
       "    <tr>\n",
       "      <th>4</th>\n",
       "      <td>1</td>\n",
       "      <td>CBD中心,周围没什么店铺,说5星有点勉强.不知道为什么卫生间没有电吹风</td>\n",
       "    </tr>\n",
       "  </tbody>\n",
       "</table>\n",
       "</div>"
      ],
      "text/plain": [
       "   label                                             review\n",
       "0      1  距离川沙公路较近,但是公交指示不对,如果是\"蔡陆线\"的话,会非常麻烦.建议用别的路线.房间较...\n",
       "1      1                       商务大床房，房间很大，床有2M宽，整体感觉经济实惠不错!\n",
       "2      1         早餐太差，无论去多少人，那边也不加食品的。酒店应该重视一下这个问题了。房间本身很好。\n",
       "3      1  宾馆在小街道上，不大好找，但还好北京热心同胞很多~宾馆设施跟介绍的差不多，房间很小，确实挺小...\n",
       "4      1               CBD中心,周围没什么店铺,说5星有点勉强.不知道为什么卫生间没有电吹风"
      ]
     },
     "execution_count": 1,
     "metadata": {},
     "output_type": "execute_result"
    }
   ],
   "source": [
    "import pandas as pd\n",
    "\n",
    "pd_corpus = pd.read_csv(\"./ChnSentiCorp_htl_all.csv\")\n",
    "\n",
    "pd_corpus.head(5)"
   ]
  },
  {
   "cell_type": "code",
   "execution_count": 2,
   "metadata": {},
   "outputs": [
    {
     "name": "stdout",
     "output_type": "stream",
     "text": [
      "Total: 7766, Positive: 5322, Negative: 2444\n"
     ]
    }
   ],
   "source": [
    "#確認所有留言,正評價(label=1)與負評價數量(label=0)\n",
    "pd_positive = pd_corpus.loc[pd_corpus['label'] == 1, :]\n",
    "pd_negative = pd_corpus.loc[pd_corpus['label'] == 0, :]\n",
    "\n",
    "print(f'Total: {len(pd_corpus)}, Positive: {len(pd_positive)}, Negative: {len(pd_negative)}')"
   ]
  },
  {
   "cell_type": "code",
   "execution_count": 3,
   "metadata": {},
   "outputs": [],
   "source": [
    "#移除缺失值\n",
    "pd_corpus.dropna(inplace=True)"
   ]
  },
  {
   "cell_type": "markdown",
   "metadata": {},
   "source": [
    "### 建構結巴斷詞Function\n",
    "\n",
    "建構可將讀入的Pandas DataFrame的文本資料，外加一欄名為`cut`的review欄位斷詞結果"
   ]
  },
  {
   "cell_type": "code",
   "execution_count": 4,
   "metadata": {},
   "outputs": [],
   "source": [
    "import jieba"
   ]
  },
  {
   "cell_type": "code",
   "execution_count": 5,
   "metadata": {},
   "outputs": [],
   "source": [
    "class JiebaCutingClass(object):\n",
    "    '''Class to use jeiba to parse corpus from dataframe and cut the corpus\n",
    "    \n",
    "    Parameters\n",
    "    -----------\n",
    "    key_to_cut: str\n",
    "        the dataframe key to parse the sentence for jieba cutting\n",
    "    dic: str\n",
    "        the dictionary to use for jieba, default is None (use default dictionary)\n",
    "    userdict: str\n",
    "        the user defined dictionary to use for jieba, default is None\n",
    "    '''\n",
    "    \n",
    "    def __init__(self, key_to_cut:str, dic:str=None, userdict:str=None):\n",
    "        \n",
    "        if dic is not None:\n",
    "            jieba.set_dictionary(dic)\n",
    "        \n",
    "        if userdict is not None:\n",
    "            jieba.load_userdict(userdict)\n",
    "        \n",
    "        self.key_to_cut = key_to_cut\n",
    "        \n",
    "        #將paddle 功能開啟\n",
    "        jieba.enable_paddle()\n",
    "        \n",
    "    @staticmethod\n",
    "    def cut_single_sentence(sentence, use_paddle=False, use_full=False, use_search=False):\n",
    "        \n",
    "        if use_search:\n",
    "            # hint:使用收尋引擎模式進行斷詞\n",
    "            out = jieba.cut_for_search(sentence)\n",
    "        else:\n",
    "            # hint:非收尋引擎模式斷詞，請注意有精確模式、全模式與paddle模式\n",
    "            out = jieba.cut(sentence, use_paddle=use_paddle, cut_all=use_full)\n",
    "        \n",
    "        return out\n",
    "            \n",
    "    \n",
    "    def cut_corpus(self, corpus: pd.DataFrame, mode: str) -> pd.DataFrame:\n",
    "        '''Method to read and cut sentence from dataframe and append another column named cut\n",
    "        \n",
    "        Paremeters\n",
    "        --------------\n",
    "        corpus: pd.DataFrame\n",
    "            Input corpus in dataframe\n",
    "        mode: str\n",
    "            Jieba mode to be used\n",
    "        \n",
    "        Return\n",
    "        ----------------\n",
    "        out: pd.Dataframe\n",
    "            Output corpus in dataframe\n",
    "        '''\n",
    "        \n",
    "        # checking valid mode\n",
    "        if mode not in ['paddle', 'full', 'precise', 'search']:\n",
    "            raise TypeError(f'only support `paddle`, `full`, `precise`, and `search` mode, but get {mode}')\n",
    "            \n",
    "        # cut the corpus based on mode\n",
    "        # hint: 根據mode來呼叫相對應的斷詞method\n",
    "        if mode == 'paddle':\n",
    "            out = self._passle_cut(corpus)\n",
    "        elif mode == 'full':\n",
    "            out = self._full_cut(corpus)\n",
    "        elif mode == 'precise':\n",
    "            out = self._precise_cut(corpus)\n",
    "        elif mode == 'search':\n",
    "            out = self._search_cut(corpus)\n",
    "\n",
    "        return out\n",
    "    \n",
    "    def _paddle_cut(self, corpus):\n",
    "        '''paddle mode\n",
    "        '''\n",
    "        #enable paddle\n",
    "        jieba.enable_paddle()\n",
    "        \n",
    "        out = []\n",
    "        # hint:將讀進的文本進行斷詞，並將結果append回out的陣列中\n",
    "        for single_review in corpus[self.key_to_cut]:\n",
    "            out.append([word for word in JiebaCutingClass.cut_single_sentence(single_review, use_paddle=True)])\n",
    "        \n",
    "        corpus['cut'] = out\n",
    "        \n",
    "        return corpus\n",
    "    \n",
    "    def _full_cut(self, corpus):\n",
    "        '''full mode\n",
    "        '''\n",
    "        \n",
    "        out = []\n",
    "        # hint:將讀進的文本進行斷詞，並將結果append回out的陣列中\n",
    "        for single_review in corpus[self.key_to_cut]:\n",
    "            out.append([word for word in JiebaCutingClass.cut_single_sentence(single_review, use_full=True)])\n",
    "        \n",
    "        corpus['cut'] = out\n",
    "        \n",
    "        return corpus\n",
    "    \n",
    "    def _precise_cut(self, corpus):\n",
    "        '''precise mode\n",
    "        '''\n",
    "        \n",
    "        out = []\n",
    "        # hint:將讀進的文本進行斷詞，並將結果append回out的陣列中\n",
    "        for single_review in corpus[self.key_to_cut]:\n",
    "            out.append([word for word in JiebaCutingClass.cut_single_sentence(single_review)])\n",
    "        \n",
    "        corpus['cut'] = out\n",
    "        \n",
    "        return corpus\n",
    "    \n",
    "    def _search_cut(self, corpus):\n",
    "        '''search mode\n",
    "        '''\n",
    "        \n",
    "        out = []\n",
    "        # hint:將讀進的文本進行斷詞，並將結果append回out的陣列中\n",
    "        for single_review in corpus[self.key_to_cut]:\n",
    "            out.append([word for word in JiebaCutingClass.cut_single_sentence(single_review, use_search=True)])\n",
    "        \n",
    "        corpus['cut'] = out\n",
    "        \n",
    "        return corpus"
   ]
  },
  {
   "cell_type": "markdown",
   "metadata": {},
   "source": [
    "### 使用建構好的斷詞物件對文本進行斷詞"
   ]
  },
  {
   "cell_type": "code",
   "execution_count": 7,
   "metadata": {},
   "outputs": [
    {
     "name": "stderr",
     "output_type": "stream",
     "text": [
      "Paddle enabled successfully......\n",
      "Building prefix dict from the default dictionary ...\n",
      "Dumping model to file cache C:\\Users\\a0922\\AppData\\Local\\Temp\\jieba.cache\n",
      "Loading model cost 1.335 seconds.\n",
      "Prefix dict has been built successfully.\n",
      "C:\\Anaconda3\\envs\\tensorflow-gpu2\\lib\\site-packages\\ipykernel_launcher.py:110: SettingWithCopyWarning: \n",
      "A value is trying to be set on a copy of a slice from a DataFrame.\n",
      "Try using .loc[row_indexer,col_indexer] = value instead\n",
      "\n",
      "See the caveats in the documentation: http://pandas.pydata.org/pandas-docs/stable/user_guide/indexing.html#returning-a-view-versus-a-copy\n"
     ]
    },
    {
     "data": {
      "text/html": [
       "<div>\n",
       "<style scoped>\n",
       "    .dataframe tbody tr th:only-of-type {\n",
       "        vertical-align: middle;\n",
       "    }\n",
       "\n",
       "    .dataframe tbody tr th {\n",
       "        vertical-align: top;\n",
       "    }\n",
       "\n",
       "    .dataframe thead th {\n",
       "        text-align: right;\n",
       "    }\n",
       "</style>\n",
       "<table border=\"1\" class=\"dataframe\">\n",
       "  <thead>\n",
       "    <tr style=\"text-align: right;\">\n",
       "      <th></th>\n",
       "      <th>label</th>\n",
       "      <th>review</th>\n",
       "      <th>cut</th>\n",
       "    </tr>\n",
       "  </thead>\n",
       "  <tbody>\n",
       "    <tr>\n",
       "      <th>50</th>\n",
       "      <td>1</td>\n",
       "      <td>硬件很好,服务质量也很好,特别是酒店周围环境非常优雅.早餐也不错,下次去还会入住</td>\n",
       "      <td>[硬件, 很, 好, ,, 服务质量, 也, 很, 好, ,, 特别, 是, 酒店, 周围环...</td>\n",
       "    </tr>\n",
       "    <tr>\n",
       "      <th>51</th>\n",
       "      <td>1</td>\n",
       "      <td>虽然表面看很一般,但里面装修还是很精致的,住着干净,舒服;以后去宜兴首选还是宜兴宾馆!</td>\n",
       "      <td>[虽然, 表面, 看, 很, 一般, ,, 但, 里面, 装修, 还是, 很, 精致, 的,...</td>\n",
       "    </tr>\n",
       "    <tr>\n",
       "      <th>52</th>\n",
       "      <td>1</td>\n",
       "      <td>整个酒店的环境、设施等都很不错，但让服务员拿份地图，却一直没拿来，价格好象比以前也高了一点。...</td>\n",
       "      <td>[整个, 酒店, 的, 环境, 、, 设施, 等, 都, 很, 不错, ，, 但, 让, 服...</td>\n",
       "    </tr>\n",
       "    <tr>\n",
       "      <th>53</th>\n",
       "      <td>1</td>\n",
       "      <td>自助早餐非常好，服务很周到，下次还会去住。</td>\n",
       "      <td>[自助, 早餐, 非常, 好, ，, 服务, 很, 周到, ，, 下次, 还会, 去, 住, 。]</td>\n",
       "    </tr>\n",
       "    <tr>\n",
       "      <th>54</th>\n",
       "      <td>1</td>\n",
       "      <td>前台小姑娘很有意思，经常入住，都熟了，呵呵</td>\n",
       "      <td>[前台, 小姑娘, 很, 有意思, ，, 经常, 入住, ，, 都, 熟, 了, ，, 呵呵]</td>\n",
       "    </tr>\n",
       "  </tbody>\n",
       "</table>\n",
       "</div>"
      ],
      "text/plain": [
       "    label                                             review  \\\n",
       "50      1           硬件很好,服务质量也很好,特别是酒店周围环境非常优雅.早餐也不错,下次去还会入住   \n",
       "51      1        虽然表面看很一般,但里面装修还是很精致的,住着干净,舒服;以后去宜兴首选还是宜兴宾馆!   \n",
       "52      1  整个酒店的环境、设施等都很不错，但让服务员拿份地图，却一直没拿来，价格好象比以前也高了一点。...   \n",
       "53      1                              自助早餐非常好，服务很周到，下次还会去住。   \n",
       "54      1                              前台小姑娘很有意思，经常入住，都熟了，呵呵   \n",
       "\n",
       "                                                  cut  \n",
       "50  [硬件, 很, 好, ,, 服务质量, 也, 很, 好, ,, 特别, 是, 酒店, 周围环...  \n",
       "51  [虽然, 表面, 看, 很, 一般, ,, 但, 里面, 装修, 还是, 很, 精致, 的,...  \n",
       "52  [整个, 酒店, 的, 环境, 、, 设施, 等, 都, 很, 不错, ，, 但, 让, 服...  \n",
       "53  [自助, 早餐, 非常, 好, ，, 服务, 很, 周到, ，, 下次, 还会, 去, 住, 。]  \n",
       "54    [前台, 小姑娘, 很, 有意思, ，, 经常, 入住, ，, 都, 熟, 了, ，, 呵呵]  "
      ]
     },
     "execution_count": 7,
     "metadata": {},
     "output_type": "execute_result"
    }
   ],
   "source": [
    "### 請使用精確模式與預設字典對文本進行斷詞\n",
    "\n",
    "# hint:請先實例化JiebaCutingClass，再進行斷詞\n",
    "jieba_cut = JiebaCutingClass(key_to_cut='review')\n",
    "pd_cut = jieba_cut.cut_corpus(pd_corpus.loc[50:, :], mode='precise') #為了避免處理時間過久, 這裡我們只使用前50個進行斷詞\n",
    "\n",
    "pd_cut.head()"
   ]
  },
  {
   "cell_type": "markdown",
   "metadata": {},
   "source": [
    "### 載入繁中字典為指定的字詞進行斷詞"
   ]
  },
  {
   "cell_type": "code",
   "execution_count": 8,
   "metadata": {},
   "outputs": [
    {
     "name": "stderr",
     "output_type": "stream",
     "text": [
      "Paddle enabled successfully......\n",
      "Building prefix dict from C:\\Users\\a0922\\Desktop\\NLP馬拉松\\dict.txt.big ...\n"
     ]
    },
    {
     "name": "stdout",
     "output_type": "stream",
     "text": [
      "Paddle模式: ['我', '愛', 'cupoy', '自然', '語言', '處理', '馬拉松', '課程']\n"
     ]
    },
    {
     "name": "stderr",
     "output_type": "stream",
     "text": [
      "Dumping model to file cache C:\\Users\\a0922\\AppData\\Local\\Temp\\jieba.u29f70b656ed735fb3a9810aa16cc8aca.cache\n",
      "Loading model cost 1.286 seconds.\n",
      "Prefix dict has been built successfully.\n"
     ]
    },
    {
     "name": "stdout",
     "output_type": "stream",
     "text": [
      "全模式: ['我', '愛', 'cupoy', '自然', '自然語言', '語言', '處理', '馬拉', '馬拉松', '課程']\n",
      "搜尋模式: ['我', '愛', 'cupoy', '自然', '語言', '自然語言', '處理', '馬拉', '馬拉松', '課程']\n",
      "精確模式: ['我', '愛', 'cupoy', '自然語言', '處理', '馬拉松', '課程']\n"
     ]
    }
   ],
   "source": [
    "test_string = '我愛cupoy自然語言處理馬拉松課程'\n",
    "jieba_cut = JiebaCutingClass(key_to_cut='', dic='./dict.txt.big')\n",
    "\n",
    "\n",
    "out_string = jieba_cut.cut_single_sentence(test_string, use_paddle=True) #paddle 模式\n",
    "print(f'Paddle模式: {[string for string in out_string]}')\n",
    "\n",
    "out_string = jieba_cut.cut_single_sentence(test_string, use_full=True) #全模式\n",
    "print(f'全模式: {[string for string in out_string]}')\n",
    "\n",
    "out_string = jieba_cut.cut_single_sentence(test_string, use_search=True) #搜尋模式\n",
    "print(f'搜尋模式: {[string for string in out_string]}')\n",
    "\n",
    "out_string = jieba_cut.cut_single_sentence(test_string) #精確模式\n",
    "print(f'精確模式: {[string for string in out_string]}')"
   ]
  },
  {
   "cell_type": "code",
   "execution_count": null,
   "metadata": {},
   "outputs": [],
   "source": []
  }
 ],
 "metadata": {
  "kernelspec": {
   "display_name": "Python 3",
   "language": "python",
   "name": "python3"
  },
  "language_info": {
   "codemirror_mode": {
    "name": "ipython",
    "version": 3
   },
   "file_extension": ".py",
   "mimetype": "text/x-python",
   "name": "python",
   "nbconvert_exporter": "python",
   "pygments_lexer": "ipython3",
   "version": "3.6.9"
  }
 },
 "nbformat": 4,
 "nbformat_minor": 2
}
