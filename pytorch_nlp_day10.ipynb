{
 "cells": [
  {
   "cell_type": "code",
   "execution_count": 1,
   "metadata": {},
   "outputs": [],
   "source": [
    "import torch\n",
    "import torch.nn as nn\n",
    "import torchvision.models as models\n",
    "import torch.nn.functional as F\n",
    "import numpy as np\n",
    "import matplotlib.pyplot as plt\n",
    "import pandas as pd\n",
    "import os\n",
    "import glob\n",
    "import codecs\n",
    "import re\n",
    "\n",
    "from sklearn.model_selection import train_test_split\n",
    "from sklearn import metrics\n",
    "from sklearn.metrics import classification_report"
   ]
  },
  {
   "cell_type": "markdown",
   "metadata": {},
   "source": [
    "## 資料準備 : 詳細介紹可參考NLP第一階段課程Day20,21"
   ]
  },
  {
   "cell_type": "code",
   "execution_count": 2,
   "metadata": {},
   "outputs": [],
   "source": [
    "all_data=[]\n",
    "paths =[r'spam_data/spam', r'spam_data/easy_ham', r'spam_data/hard_ham'] \n",
    "for path in paths:\n",
    "    for fn in glob.glob(path+\"/*\"):\n",
    "        if \"ham\" not in fn:\n",
    "            is_spam = 1\n",
    "        else:\n",
    "            is_spam = 0\n",
    "        #codecs.open可以避開錯誤，用errors='ignore'\n",
    "        with codecs.open(fn,encoding='utf-8', errors='ignore') as file:\n",
    "            for line in file:\n",
    "                #這個line的開頭為Subject:\n",
    "                if line.startswith(\"Subject:\"):\n",
    "                    subject=re.sub(r\"^Subject:\",\"\",line).strip()\n",
    "                    all_data.append([subject,is_spam])\n",
    "all_data = np.array(all_data)"
   ]
  },
  {
   "cell_type": "code",
   "execution_count": 3,
   "metadata": {},
   "outputs": [],
   "source": [
    "X = all_data[:,0]\n",
    "Y = all_data[:,1].astype(np.uint8)"
   ]
  },
  {
   "cell_type": "code",
   "execution_count": 4,
   "metadata": {},
   "outputs": [
    {
     "name": "stderr",
     "output_type": "stream",
     "text": [
      "[nltk_data] Downloading package stopwords to\n",
      "[nltk_data]     C:\\Users\\user\\AppData\\Roaming\\nltk_data...\n",
      "[nltk_data]   Package stopwords is already up-to-date!\n"
     ]
    }
   ],
   "source": [
    "from sklearn.metrics import confusion_matrix\n",
    "from nltk.corpus import stopwords\n",
    "\n",
    "import nltk\n",
    "\n",
    "nltk.download('stopwords')\n",
    "\n",
    "# Lemmatize with POS Tag\n",
    "from nltk.corpus import wordnet\n",
    "from nltk.stem import WordNetLemmatizer \n",
    "\n",
    "## 創建Lemmatizer\n",
    "lemmatizer = WordNetLemmatizer() \n",
    "def get_wordnet_pos(word):\n",
    "    \"\"\"將pos_tag結果mapping到lemmatizer中pos的格式\"\"\"\n",
    "    tag = nltk.pos_tag([word])[0][1][0].upper()\n",
    "    tag_dict = {\"J\": wordnet.ADJ,\n",
    "                \"N\": wordnet.NOUN,\n",
    "                \"V\": wordnet.VERB,\n",
    "                \"R\": wordnet.ADV}\n",
    "\n",
    "    return tag_dict.get(tag, wordnet.NOUN)\n",
    "\n",
    "\n",
    "def clean_content(X):\n",
    "    # remove non-alphabet characters\n",
    "    X_clean = [re.sub('[^a-zA-Z]',' ', x).lower() for x in X]\n",
    "    # tokenize\n",
    "    X_word_tokenize = [nltk.word_tokenize(x) for x in X_clean]\n",
    "    # stopwords_lemmatizer\n",
    "    X_stopwords_lemmatizer = []\n",
    "    stop_words = set(stopwords.words('english'))\n",
    "    for content in X_word_tokenize:\n",
    "        content_clean = []\n",
    "        for word in content:\n",
    "            if word not in stop_words:\n",
    "                word = lemmatizer.lemmatize(word, get_wordnet_pos(word))\n",
    "                content_clean.append(word)\n",
    "        X_stopwords_lemmatizer.append(content_clean)\n",
    "    \n",
    "    X_output = [' '.join(x) for x in X_stopwords_lemmatizer]\n",
    "    \n",
    "    return X_output\n",
    "                 "
   ]
  },
  {
   "cell_type": "code",
   "execution_count": 5,
   "metadata": {},
   "outputs": [],
   "source": [
    "X = clean_content(X)"
   ]
  },
  {
   "cell_type": "code",
   "execution_count": 6,
   "metadata": {},
   "outputs": [],
   "source": [
    "from sklearn.feature_extraction.text import CountVectorizer\n",
    "#max_features是要建造幾個column，會按造字出現的頻率高低去篩選，1500並沒有特別含義，大家可以自己嘗試不同數值或不加入限制\n",
    "cv=CountVectorizer(max_features = 1500)\n",
    "X=cv.fit_transform(X).toarray()"
   ]
  },
  {
   "cell_type": "code",
   "execution_count": 7,
   "metadata": {},
   "outputs": [],
   "source": [
    "from sklearn.model_selection import train_test_split\n",
    "# random_state是為了讓各為學員得到相同的結果，平時可以移除\n",
    "x_train, x_test, y_train, y_test = train_test_split(X, Y, test_size = 0.2, random_state = 0)"
   ]
  },
  {
   "cell_type": "code",
   "execution_count": 8,
   "metadata": {},
   "outputs": [
    {
     "data": {
      "text/plain": [
       "(2738, 1500)"
      ]
     },
     "execution_count": 8,
     "metadata": {},
     "output_type": "execute_result"
    }
   ],
   "source": [
    "x_train.shape"
   ]
  },
  {
   "cell_type": "code",
   "execution_count": 9,
   "metadata": {},
   "outputs": [
    {
     "data": {
      "text/plain": [
       "array([0, 1], dtype=uint8)"
      ]
     },
     "execution_count": 9,
     "metadata": {},
     "output_type": "execute_result"
    }
   ],
   "source": [
    "np.unique(y_train)"
   ]
  },
  {
   "cell_type": "markdown",
   "metadata": {},
   "source": [
    "### 判斷是否有GPU可以使用"
   ]
  },
  {
   "cell_type": "code",
   "execution_count": 11,
   "metadata": {},
   "outputs": [],
   "source": [
    "device = 'cuda' if torch.cuda.is_available() else 'cpu'"
   ]
  },
  {
   "cell_type": "markdown",
   "metadata": {},
   "source": [
    "### 模型搭建"
   ]
  },
  {
   "cell_type": "code",
   "execution_count": 12,
   "metadata": {},
   "outputs": [],
   "source": [
    "class LinearBNAC(nn.Module):\n",
    "    def __init__(self, in_channels, out_channels, bias=True, dropout=0.3, is_output=False):\n",
    "        super(LinearBNAC, self).__init__()\n",
    "        if is_output:\n",
    "            self.linear = nn.Linear(in_channels, out_channels, bias=bias)\n",
    "        else:\n",
    "            self.linear = nn.Sequential(\n",
    "                nn.Linear(in_channels, out_channels, bias=bias),\n",
    "                nn.BatchNorm1d(out_channels),\n",
    "                nn.LeakyReLU(inplace=True),\n",
    "                nn.Dropout(dropout),\n",
    "            )\n",
    "            \n",
    "    def forward(self, x):\n",
    "        out=self.linear(x)\n",
    "        return out"
   ]
  },
  {
   "cell_type": "code",
   "execution_count": 13,
   "metadata": {},
   "outputs": [],
   "source": [
    "class Model(nn.Module):\n",
    "    def __init__(self, input_dimention, output_classes=1):\n",
    "        super(Model, self).__init__()\n",
    "        self.layer1 = LinearBNAC(input_dimention, 16)\n",
    "        self.layer2 = LinearBNAC(16, 32)\n",
    "        self.output = LinearBNAC(32, output_classes, is_output=True)\n",
    "    def forward(self, x):\n",
    "        x = self.layer1(x)\n",
    "        x = self.layer2(x)\n",
    "        x = self.output(x)\n",
    "        return x  \n",
    "        "
   ]
  },
  {
   "cell_type": "markdown",
   "metadata": {},
   "source": [
    "### 建立模型"
   ]
  },
  {
   "cell_type": "markdown",
   "metadata": {},
   "source": [
    "* to(device) 代表轉成 cpu or gpu 模式 (gpu 模式下稱為 cuda)"
   ]
  },
  {
   "cell_type": "code",
   "execution_count": 14,
   "metadata": {},
   "outputs": [],
   "source": [
    "model = Model(input_dimention=1500,output_classes=1).to(device)"
   ]
  },
  {
   "cell_type": "code",
   "execution_count": 15,
   "metadata": {},
   "outputs": [
    {
     "name": "stdout",
     "output_type": "stream",
     "text": [
      "layer1.linear.0.weight torch.Size([16, 1500])\n",
      "layer1.linear.0.bias torch.Size([16])\n",
      "layer1.linear.1.weight torch.Size([16])\n",
      "layer1.linear.1.bias torch.Size([16])\n",
      "layer2.linear.0.weight torch.Size([32, 16])\n",
      "layer2.linear.0.bias torch.Size([32])\n",
      "layer2.linear.1.weight torch.Size([32])\n",
      "layer2.linear.1.bias torch.Size([32])\n",
      "output.linear.weight torch.Size([1, 32])\n",
      "output.linear.bias torch.Size([1])\n"
     ]
    }
   ],
   "source": [
    "for name,_ in model.named_parameters():\n",
    "    print(name, _.shape)"
   ]
  },
  {
   "cell_type": "code",
   "execution_count": 16,
   "metadata": {},
   "outputs": [],
   "source": [
    "batch_size = 4\n",
    "input_features = 1500\n",
    "dummy_input = torch.randn(batch_size, input_features).to(device)\n"
   ]
  },
  {
   "cell_type": "code",
   "execution_count": 17,
   "metadata": {},
   "outputs": [
    {
     "name": "stdout",
     "output_type": "stream",
     "text": [
      "tensor([[-0.5201],\n",
      "        [ 0.1891],\n",
      "        [-0.0882],\n",
      "        [-0.7541]], device='cuda:0', grad_fn=<AddmmBackward>)\n"
     ]
    }
   ],
   "source": [
    "output = model(dummy_input)\n",
    "print(output)"
   ]
  },
  {
   "cell_type": "markdown",
   "metadata": {},
   "source": [
    "## Loss"
   ]
  },
  {
   "cell_type": "markdown",
   "metadata": {},
   "source": [
    "#### classification"
   ]
  },
  {
   "cell_type": "code",
   "execution_count": 18,
   "metadata": {},
   "outputs": [],
   "source": [
    "from torch.nn import NLLLoss, LogSoftmax, CrossEntropyLoss, BCEWithLogitsLoss"
   ]
  },
  {
   "cell_type": "code",
   "execution_count": 19,
   "metadata": {},
   "outputs": [],
   "source": [
    "## CrossEntropyLoss = LogSoftmax + NLLLoss"
   ]
  },
  {
   "cell_type": "markdown",
   "metadata": {},
   "source": [
    "* CrossEntropyLoss"
   ]
  },
  {
   "cell_type": "code",
   "execution_count": 20,
   "metadata": {},
   "outputs": [],
   "source": [
    "criterion = BCEWithLogitsLoss()"
   ]
  },
  {
   "cell_type": "markdown",
   "metadata": {},
   "source": [
    "## optimizer"
   ]
  },
  {
   "cell_type": "code",
   "execution_count": 21,
   "metadata": {},
   "outputs": [],
   "source": [
    "import torch.optim as optim"
   ]
  },
  {
   "cell_type": "markdown",
   "metadata": {},
   "source": [
    "* params : iterable of parameters\n",
    "* lr : learning rate\n",
    "* weight_decay : (L2) Regularization (正則化) "
   ]
  },
  {
   "cell_type": "code",
   "execution_count": 22,
   "metadata": {},
   "outputs": [],
   "source": [
    "optimizer = optim.Adam(params=model.parameters(), lr=1e-3)"
   ]
  },
  {
   "cell_type": "markdown",
   "metadata": {},
   "source": [
    "### 訓練前準備"
   ]
  },
  {
   "cell_type": "code",
   "execution_count": 23,
   "metadata": {},
   "outputs": [],
   "source": [
    "x_train = torch.tensor(x_train, dtype=torch.float32).to(device)\n",
    "x_test = torch.tensor(x_test, dtype=torch.float32).to(device)\n",
    "\n",
    "y_train_numpy = y_train.copy()\n",
    "y_test_numpy = y_test.copy()\n",
    "\n",
    "y_train = torch.tensor(y_train, dtype=torch.float32).to(device)\n",
    "y_test = torch.tensor(y_test, dtype=torch.float32).to(device)"
   ]
  },
  {
   "cell_type": "code",
   "execution_count": 24,
   "metadata": {},
   "outputs": [],
   "source": [
    "batch_size = 4\n",
    "epochs = 50\n",
    "softmax = nn.Softmax(-1)\n",
    "\n",
    "index = np.array([x for x in range(len(x_train))])"
   ]
  },
  {
   "cell_type": "code",
   "execution_count": 26,
   "metadata": {},
   "outputs": [
    {
     "data": {
      "text/plain": [
       "torch.Size([685])"
      ]
     },
     "execution_count": 26,
     "metadata": {},
     "output_type": "execute_result"
    }
   ],
   "source": [
    "y_test.shape"
   ]
  },
  {
   "cell_type": "markdown",
   "metadata": {},
   "source": [
    "### 訓練"
   ]
  },
  {
   "cell_type": "code",
   "execution_count": 29,
   "metadata": {},
   "outputs": [
    {
     "name": "stdout",
     "output_type": "stream",
     "text": [
      "epoch : 0\n",
      "目前 train loss : 0.31\n",
      "目前 test loss : 0.27\n",
      "目前 test accuracy : 0.86\n",
      "epoch : 2\n",
      "目前 train loss : 0.25\n",
      "目前 test loss : 0.26\n",
      "目前 test accuracy : 0.91\n",
      "epoch : 4\n",
      "目前 train loss : 0.23\n",
      "目前 test loss : 0.25\n",
      "目前 test accuracy : 0.91\n",
      "epoch : 6\n",
      "目前 train loss : 0.21\n",
      "目前 test loss : 0.26\n",
      "目前 test accuracy : 0.91\n",
      "epoch : 8\n",
      "目前 train loss : 0.21\n",
      "目前 test loss : 0.27\n",
      "目前 test accuracy : 0.91\n",
      "epoch : 10\n",
      "目前 train loss : 0.19\n",
      "目前 test loss : 0.25\n",
      "目前 test accuracy : 0.92\n",
      "epoch : 12\n",
      "目前 train loss : 0.18\n",
      "目前 test loss : 0.25\n",
      "目前 test accuracy : 0.92\n",
      "epoch : 14\n",
      "目前 train loss : 0.20\n",
      "目前 test loss : 0.24\n",
      "目前 test accuracy : 0.92\n",
      "epoch : 16\n",
      "目前 train loss : 0.17\n",
      "目前 test loss : 0.26\n",
      "目前 test accuracy : 0.91\n",
      "epoch : 18\n",
      "目前 train loss : 0.18\n",
      "目前 test loss : 0.24\n",
      "目前 test accuracy : 0.92\n",
      "epoch : 20\n",
      "目前 train loss : 0.16\n",
      "目前 test loss : 0.24\n",
      "目前 test accuracy : 0.92\n",
      "epoch : 22\n",
      "目前 train loss : 0.16\n",
      "目前 test loss : 0.30\n",
      "目前 test accuracy : 0.91\n",
      "epoch : 24\n",
      "目前 train loss : 0.17\n",
      "目前 test loss : 0.26\n",
      "目前 test accuracy : 0.92\n",
      "epoch : 26\n",
      "目前 train loss : 0.16\n",
      "目前 test loss : 0.28\n",
      "目前 test accuracy : 0.91\n",
      "epoch : 28\n",
      "目前 train loss : 0.16\n",
      "目前 test loss : 0.27\n",
      "目前 test accuracy : 0.91\n",
      "epoch : 30\n",
      "目前 train loss : 0.15\n",
      "目前 test loss : 0.27\n",
      "目前 test accuracy : 0.92\n",
      "epoch : 32\n",
      "目前 train loss : 0.16\n",
      "目前 test loss : 0.27\n",
      "目前 test accuracy : 0.91\n",
      "epoch : 34\n",
      "目前 train loss : 0.14\n",
      "目前 test loss : 0.26\n",
      "目前 test accuracy : 0.92\n",
      "epoch : 36\n",
      "目前 train loss : 0.14\n",
      "目前 test loss : 0.26\n",
      "目前 test accuracy : 0.92\n",
      "epoch : 38\n",
      "目前 train loss : 0.15\n",
      "目前 test loss : 0.27\n",
      "目前 test accuracy : 0.92\n",
      "epoch : 40\n",
      "目前 train loss : 0.14\n",
      "目前 test loss : 0.26\n",
      "目前 test accuracy : 0.92\n",
      "epoch : 42\n",
      "目前 train loss : 0.15\n",
      "目前 test loss : 0.27\n",
      "目前 test accuracy : 0.91\n",
      "epoch : 44\n",
      "目前 train loss : 0.14\n",
      "目前 test loss : 0.26\n",
      "目前 test accuracy : 0.92\n",
      "epoch : 46\n",
      "目前 train loss : 0.12\n",
      "目前 test loss : 0.26\n",
      "目前 test accuracy : 0.92\n",
      "epoch : 48\n",
      "目前 train loss : 0.15\n",
      "目前 test loss : 0.28\n",
      "目前 test accuracy : 0.92\n"
     ]
    }
   ],
   "source": [
    "train_loss_ = []\n",
    "test_loss_ = []\n",
    "train_accuracy_ = []\n",
    "test_accuracy_ = []\n",
    "for epoch in range(epochs):\n",
    "    \n",
    "    np.random.shuffle(index)\n",
    "    x_train = x_train[index]\n",
    "    y_train = y_train[index]\n",
    "\n",
    "    loss_keeper = []\n",
    "    model.train()\n",
    "    \n",
    "    for batch in range(len(x_train)//batch_size):\n",
    "        x = x_train[batch*batch_size : (batch+1)*batch_size,:]\n",
    "        y = y_train[batch*batch_size : (batch+1)*batch_size]\n",
    "        y = y.reshape(batch_size, -1)\n",
    "        output = model(x)\n",
    "        loss_train = criterion(output, y)\n",
    "        loss_train.backward()\n",
    "        optimizer.step()\n",
    "        optimizer.zero_grad()\n",
    "        \n",
    "        loss_train = loss_train.detach().cpu().item()\n",
    "        loss_keeper.append(loss_train)    \n",
    "    \n",
    "    model.eval()\n",
    "    output = model(x_test)\n",
    "#     prediction = softmax(output)\n",
    "#     prediction = torch.argmax(prediction,1).detach().cpu().numpy()\n",
    "    predictions = output.detach().cpu().numpy()\n",
    "    for i in range(len(predictions)):\n",
    "        if predictions[i] < 0.5:\n",
    "            predictions[i] = 0\n",
    "        else:\n",
    "            predictions[i] = 1\n",
    "    y_test_numpy = y_test.detach().cpu().numpy()\n",
    "    test_accuracy = metrics.accuracy_score(predictions, y_test_numpy)\n",
    "    y_test = y_test.reshape(len(y_test), -1)\n",
    "    loss_test = criterion(output, y_test)\n",
    "    loss_test = loss_test.detach().cpu().item()\n",
    "    train_loss_.append(np.mean(loss_keeper))\n",
    "    test_loss_.append(loss_test)\n",
    "    \n",
    "    if epoch % 2 == 0:\n",
    "        print('epoch : {}'.format(epoch))\n",
    "        print('目前 train loss : {:.2f}'.format(np.mean(loss_keeper)))\n",
    "        print('目前 test loss : {:.2f}'.format(loss_test))\n",
    "        print('目前 test accuracy : {:.2f}'.format(test_accuracy))\n"
   ]
  },
  {
   "cell_type": "code",
   "execution_count": 31,
   "metadata": {},
   "outputs": [
    {
     "name": "stdout",
     "output_type": "stream",
     "text": [
      "              precision    recall  f1-score   support\n",
      "\n",
      "         0.0       0.97      0.94      0.95       604\n",
      "         1.0       0.63      0.77      0.69        81\n",
      "\n",
      "    accuracy                           0.92       685\n",
      "   macro avg       0.80      0.85      0.82       685\n",
      "weighted avg       0.93      0.92      0.92       685\n",
      "\n"
     ]
    }
   ],
   "source": [
    "print(classification_report(predictions, y_test_numpy))"
   ]
  },
  {
   "cell_type": "code",
   "execution_count": 32,
   "metadata": {},
   "outputs": [
    {
     "data": {
      "image/png": "[encoded data removed]",
      "text/plain": [
       "<Figure size 432x288 with 1 Axes>"
      ]
     },
     "metadata": {
      "needs_background": "light"
     },
     "output_type": "display_data"
    }
   ],
   "source": [
    "import matplotlib.pyplot as plt\n",
    "%matplotlib inline\n",
    "plt.plot(np.arange(1, len(test_loss_)+1), test_loss_)\n",
    "plt.show()"
   ]
  },
  {
   "cell_type": "code",
   "execution_count": 33,
   "metadata": {},
   "outputs": [
    {
     "data": {
      "image/png": "[encoded data removed]",
      "text/plain": [
       "<Figure size 432x288 with 1 Axes>"
      ]
     },
     "metadata": {
      "needs_background": "light"
     },
     "output_type": "display_data"
    }
   ],
   "source": [
    "import matplotlib.pyplot as plt\n",
    "%matplotlib inline\n",
    "plt.plot(np.arange(1, len(train_loss_)+1), train_loss_)\n",
    "plt.show()"
   ]
  },
  {
   "cell_type": "markdown",
   "metadata": {},
   "source": [
    "---"
   ]
  },
  {
   "cell_type": "markdown",
   "metadata": {},
   "source": [
    "### 儲存跟載入 weight"
   ]
  },
  {
   "cell_type": "markdown",
   "metadata": {},
   "source": [
    "### 儲存"
   ]
  },
  {
   "cell_type": "code",
   "execution_count": 34,
   "metadata": {},
   "outputs": [],
   "source": [
    "##假設我們已經訓練好了模型\n",
    "## 可以存成 .pth or .pt\n",
    "saving_location = './model_save_day10.pth' # './' 代表目前所屬路徑\n",
    "torch.save(model.state_dict(), f=saving_location)"
   ]
  },
  {
   "cell_type": "markdown",
   "metadata": {},
   "source": [
    "### 載入 "
   ]
  },
  {
   "cell_type": "code",
   "execution_count": 35,
   "metadata": {},
   "outputs": [
    {
     "name": "stdout",
     "output_type": "stream",
     "text": [
      "loading successfully...\n",
      "\n",
      "\n",
      "Is spam\n"
     ]
    }
   ],
   "source": [
    "model = Model(input_dimention=1500,output_classes=1).to(device)\n",
    "\n",
    "##載入\n",
    "checkpoint = torch.load(saving_location, map_location=lambda storage, loc: storage)\n",
    "model.load_state_dict(checkpoint)\n",
    "print('loading successfully...')\n",
    "print('\\n')\n",
    "\n",
    "model.eval()\n",
    "\n",
    "test_content = ['Congratulations! You Get a Free Handheld Organizer!']\n",
    "test_content = clean_content(test_content)\n",
    "test_content=cv.transform(test_content).toarray()\n",
    "test_content = torch.tensor(test_content, dtype=torch.float32).to(device)\n",
    "output = model(test_content)\n",
    "# prediction = softmax(output)\n",
    "prediction = output.detach().cpu().numpy()[0]\n",
    "\n",
    "if prediction > 0.5:\n",
    "    print('Is spam')\n",
    "else:\n",
    "    print('Not spam')"
   ]
  },
  {
   "cell_type": "code",
   "execution_count": null,
   "metadata": {},
   "outputs": [],
   "source": []
  }
 ],
 "metadata": {
  "kernelspec": {
   "display_name": "Python 3",
   "language": "python",
   "name": "python3"
  },
  "language_info": {
   "codemirror_mode": {
    "name": "ipython",
    "version": 3
   },
   "file_extension": ".py",
   "mimetype": "text/x-python",
   "name": "python",
   "nbconvert_exporter": "python",
   "pygments_lexer": "ipython3",
   "version": "3.7.9"
  }
 },
 "nbformat": 4,
 "nbformat_minor": 2
}
