{
  "nbformat": 4,
  "nbformat_minor": 0,
  "metadata": {
    "kernelspec": {
      "display_name": "Python 3",
      "language": "python",
      "name": "python3"
    },
    "language_info": {
      "codemirror_mode": {
        "name": "ipython",
        "version": 3
      },
      "file_extension": ".py",
      "mimetype": "text/x-python",
      "name": "python",
      "nbconvert_exporter": "python",
      "pygments_lexer": "ipython3",
      "version": "3.7.4"
    },
    "colab": {
      "name": "huggingface_bert_demo.ipynb",
      "provenance": [],
      "include_colab_link": true
    },
    "accelerator": "GPU",
    "widgets": {
      "application/vnd.jupyter.widget-state+json": {
        "1753e1bc3c08454bad6873081e55f13e": {
          "model_module": "@jupyter-widgets/controls",
          "model_name": "HBoxModel",
          "state": {
            "_view_name": "HBoxView",
            "_dom_classes": [],
            "_model_name": "HBoxModel",
            "_view_module": "@jupyter-widgets/controls",
            "_model_module_version": "1.5.0",
            "_view_count": null,
            "_view_module_version": "1.5.0",
            "box_style": "",
            "layout": "IPY_MODEL_1077599d77344b4fb2e74deb7bd30898",
            "_model_module": "@jupyter-widgets/controls",
            "children": [
              "IPY_MODEL_370071bba35048ba85cf45989ee33ab6",
              "IPY_MODEL_3a8d40ea4cf946fba0c64f63eabade4d"
            ]
          }
        },
        "1077599d77344b4fb2e74deb7bd30898": {
          "model_module": "@jupyter-widgets/base",
          "model_name": "LayoutModel",
          "state": {
            "_view_name": "LayoutView",
            "grid_template_rows": null,
            "right": null,
            "justify_content": null,
            "_view_module": "@jupyter-widgets/base",
            "overflow": null,
            "_model_module_version": "1.2.0",
            "_view_count": null,
            "flex_flow": null,
            "width": null,
            "min_width": null,
            "border": null,
            "align_items": null,
            "bottom": null,
            "_model_module": "@jupyter-widgets/base",
            "top": null,
            "grid_column": null,
            "overflow_y": null,
            "overflow_x": null,
            "grid_auto_flow": null,
            "grid_area": null,
            "grid_template_columns": null,
            "flex": null,
            "_model_name": "LayoutModel",
            "justify_items": null,
            "grid_row": null,
            "max_height": null,
            "align_content": null,
            "visibility": null,
            "align_self": null,
            "height": null,
            "min_height": null,
            "padding": null,
            "grid_auto_rows": null,
            "grid_gap": null,
            "max_width": null,
            "order": null,
            "_view_module_version": "1.2.0",
            "grid_template_areas": null,
            "object_position": null,
            "object_fit": null,
            "grid_auto_columns": null,
            "margin": null,
            "display": null,
            "left": null
          }
        },
        "370071bba35048ba85cf45989ee33ab6": {
          "model_module": "@jupyter-widgets/controls",
          "model_name": "FloatProgressModel",
          "state": {
            "_view_name": "ProgressView",
            "style": "IPY_MODEL_4ee298a1a731447f9717a1aa1e3a73ea",
            "_dom_classes": [],
            "description": "Downloading: 100%",
            "_model_name": "FloatProgressModel",
            "bar_style": "success",
            "max": 231508,
            "_view_module": "@jupyter-widgets/controls",
            "_model_module_version": "1.5.0",
            "value": 231508,
            "_view_count": null,
            "_view_module_version": "1.5.0",
            "orientation": "horizontal",
            "min": 0,
            "description_tooltip": null,
            "_model_module": "@jupyter-widgets/controls",
            "layout": "IPY_MODEL_58fca3e8273c474b915dd795e3b4d31d"
          }
        },
        "3a8d40ea4cf946fba0c64f63eabade4d": {
          "model_module": "@jupyter-widgets/controls",
          "model_name": "HTMLModel",
          "state": {
            "_view_name": "HTMLView",
            "style": "IPY_MODEL_4e45a8dc49eb439ea8b37139a546c1b0",
            "_dom_classes": [],
            "description": "",
            "_model_name": "HTMLModel",
            "placeholder": "​",
            "_view_module": "@jupyter-widgets/controls",
            "_model_module_version": "1.5.0",
            "value": " 232k/232k [00:00&lt;00:00, 851kB/s]",
            "_view_count": null,
            "_view_module_version": "1.5.0",
            "description_tooltip": null,
            "_model_module": "@jupyter-widgets/controls",
            "layout": "IPY_MODEL_cf878f1d2cab4dd289f6d2831da3fe34"
          }
        },
        "4ee298a1a731447f9717a1aa1e3a73ea": {
          "model_module": "@jupyter-widgets/controls",
          "model_name": "ProgressStyleModel",
          "state": {
            "_view_name": "StyleView",
            "_model_name": "ProgressStyleModel",
            "description_width": "initial",
            "_view_module": "@jupyter-widgets/base",
            "_model_module_version": "1.5.0",
            "_view_count": null,
            "_view_module_version": "1.2.0",
            "bar_color": null,
            "_model_module": "@jupyter-widgets/controls"
          }
        },
        "58fca3e8273c474b915dd795e3b4d31d": {
          "model_module": "@jupyter-widgets/base",
          "model_name": "LayoutModel",
          "state": {
            "_view_name": "LayoutView",
            "grid_template_rows": null,
            "right": null,
            "justify_content": null,
            "_view_module": "@jupyter-widgets/base",
            "overflow": null,
            "_model_module_version": "1.2.0",
            "_view_count": null,
            "flex_flow": null,
            "width": null,
            "min_width": null,
            "border": null,
            "align_items": null,
            "bottom": null,
            "_model_module": "@jupyter-widgets/base",
            "top": null,
            "grid_column": null,
            "overflow_y": null,
            "overflow_x": null,
            "grid_auto_flow": null,
            "grid_area": null,
            "grid_template_columns": null,
            "flex": null,
            "_model_name": "LayoutModel",
            "justify_items": null,
            "grid_row": null,
            "max_height": null,
            "align_content": null,
            "visibility": null,
            "align_self": null,
            "height": null,
            "min_height": null,
            "padding": null,
            "grid_auto_rows": null,
            "grid_gap": null,
            "max_width": null,
            "order": null,
            "_view_module_version": "1.2.0",
            "grid_template_areas": null,
            "object_position": null,
            "object_fit": null,
            "grid_auto_columns": null,
            "margin": null,
            "display": null,
            "left": null
          }
        },
        "4e45a8dc49eb439ea8b37139a546c1b0": {
          "model_module": "@jupyter-widgets/controls",
          "model_name": "DescriptionStyleModel",
          "state": {
            "_view_name": "StyleView",
            "_model_name": "DescriptionStyleModel",
            "description_width": "",
            "_view_module": "@jupyter-widgets/base",
            "_model_module_version": "1.5.0",
            "_view_count": null,
            "_view_module_version": "1.2.0",
            "_model_module": "@jupyter-widgets/controls"
          }
        },
        "cf878f1d2cab4dd289f6d2831da3fe34": {
          "model_module": "@jupyter-widgets/base",
          "model_name": "LayoutModel",
          "state": {
            "_view_name": "LayoutView",
            "grid_template_rows": null,
            "right": null,
            "justify_content": null,
            "_view_module": "@jupyter-widgets/base",
            "overflow": null,
            "_model_module_version": "1.2.0",
            "_view_count": null,
            "flex_flow": null,
            "width": null,
            "min_width": null,
            "border": null,
            "align_items": null,
            "bottom": null,
            "_model_module": "@jupyter-widgets/base",
            "top": null,
            "grid_column": null,
            "overflow_y": null,
            "overflow_x": null,
            "grid_auto_flow": null,
            "grid_area": null,
            "grid_template_columns": null,
            "flex": null,
            "_model_name": "LayoutModel",
            "justify_items": null,
            "grid_row": null,
            "max_height": null,
            "align_content": null,
            "visibility": null,
            "align_self": null,
            "height": null,
            "min_height": null,
            "padding": null,
            "grid_auto_rows": null,
            "grid_gap": null,
            "max_width": null,
            "order": null,
            "_view_module_version": "1.2.0",
            "grid_template_areas": null,
            "object_position": null,
            "object_fit": null,
            "grid_auto_columns": null,
            "margin": null,
            "display": null,
            "left": null
          }
        },
        "b12ebfb172044b278c13d2e2b628181c": {
          "model_module": "@jupyter-widgets/controls",
          "model_name": "HBoxModel",
          "state": {
            "_view_name": "HBoxView",
            "_dom_classes": [],
            "_model_name": "HBoxModel",
            "_view_module": "@jupyter-widgets/controls",
            "_model_module_version": "1.5.0",
            "_view_count": null,
            "_view_module_version": "1.5.0",
            "box_style": "",
            "layout": "IPY_MODEL_c5a132ff43e54815be08b12f8e21766f",
            "_model_module": "@jupyter-widgets/controls",
            "children": [
              "IPY_MODEL_aaecaf459b2a4086902a59da48b7fd07",
              "IPY_MODEL_56917611427744eabdfc19c7634843c0"
            ]
          }
        },
        "c5a132ff43e54815be08b12f8e21766f": {
          "model_module": "@jupyter-widgets/base",
          "model_name": "LayoutModel",
          "state": {
            "_view_name": "LayoutView",
            "grid_template_rows": null,
            "right": null,
            "justify_content": null,
            "_view_module": "@jupyter-widgets/base",
            "overflow": null,
            "_model_module_version": "1.2.0",
            "_view_count": null,
            "flex_flow": null,
            "width": null,
            "min_width": null,
            "border": null,
            "align_items": null,
            "bottom": null,
            "_model_module": "@jupyter-widgets/base",
            "top": null,
            "grid_column": null,
            "overflow_y": null,
            "overflow_x": null,
            "grid_auto_flow": null,
            "grid_area": null,
            "grid_template_columns": null,
            "flex": null,
            "_model_name": "LayoutModel",
            "justify_items": null,
            "grid_row": null,
            "max_height": null,
            "align_content": null,
            "visibility": null,
            "align_self": null,
            "height": null,
            "min_height": null,
            "padding": null,
            "grid_auto_rows": null,
            "grid_gap": null,
            "max_width": null,
            "order": null,
            "_view_module_version": "1.2.0",
            "grid_template_areas": null,
            "object_position": null,
            "object_fit": null,
            "grid_auto_columns": null,
            "margin": null,
            "display": null,
            "left": null
          }
        },
        "aaecaf459b2a4086902a59da48b7fd07": {
          "model_module": "@jupyter-widgets/controls",
          "model_name": "FloatProgressModel",
          "state": {
            "_view_name": "ProgressView",
            "style": "IPY_MODEL_c44cb5d9d0274ca78c57ec35a9645cea",
            "_dom_classes": [],
            "description": "Downloading: 100%",
            "_model_name": "FloatProgressModel",
            "bar_style": "success",
            "max": 28,
            "_view_module": "@jupyter-widgets/controls",
            "_model_module_version": "1.5.0",
            "value": 28,
            "_view_count": null,
            "_view_module_version": "1.5.0",
            "orientation": "horizontal",
            "min": 0,
            "description_tooltip": null,
            "_model_module": "@jupyter-widgets/controls",
            "layout": "IPY_MODEL_21fb2fe5cb15426da4e2afc499fa068c"
          }
        },
        "56917611427744eabdfc19c7634843c0": {
          "model_module": "@jupyter-widgets/controls",
          "model_name": "HTMLModel",
          "state": {
            "_view_name": "HTMLView",
            "style": "IPY_MODEL_7dca8b171397408988aed98e35ac08d8",
            "_dom_classes": [],
            "description": "",
            "_model_name": "HTMLModel",
            "placeholder": "​",
            "_view_module": "@jupyter-widgets/controls",
            "_model_module_version": "1.5.0",
            "value": " 28.0/28.0 [00:00&lt;00:00, 37.5B/s]",
            "_view_count": null,
            "_view_module_version": "1.5.0",
            "description_tooltip": null,
            "_model_module": "@jupyter-widgets/controls",
            "layout": "IPY_MODEL_a2640ac321d740b3bae6ee3b2c7b10b2"
          }
        },
        "c44cb5d9d0274ca78c57ec35a9645cea": {
          "model_module": "@jupyter-widgets/controls",
          "model_name": "ProgressStyleModel",
          "state": {
            "_view_name": "StyleView",
            "_model_name": "ProgressStyleModel",
            "description_width": "initial",
            "_view_module": "@jupyter-widgets/base",
            "_model_module_version": "1.5.0",
            "_view_count": null,
            "_view_module_version": "1.2.0",
            "bar_color": null,
            "_model_module": "@jupyter-widgets/controls"
          }
        },
        "21fb2fe5cb15426da4e2afc499fa068c": {
          "model_module": "@jupyter-widgets/base",
          "model_name": "LayoutModel",
          "state": {
            "_view_name": "LayoutView",
            "grid_template_rows": null,
            "right": null,
            "justify_content": null,
            "_view_module": "@jupyter-widgets/base",
            "overflow": null,
            "_model_module_version": "1.2.0",
            "_view_count": null,
            "flex_flow": null,
            "width": null,
            "min_width": null,
            "border": null,
            "align_items": null,
            "bottom": null,
            "_model_module": "@jupyter-widgets/base",
            "top": null,
            "grid_column": null,
            "overflow_y": null,
            "overflow_x": null,
            "grid_auto_flow": null,
            "grid_area": null,
            "grid_template_columns": null,
            "flex": null,
            "_model_name": "LayoutModel",
            "justify_items": null,
            "grid_row": null,
            "max_height": null,
            "align_content": null,
            "visibility": null,
            "align_self": null,
            "height": null,
            "min_height": null,
            "padding": null,
            "grid_auto_rows": null,
            "grid_gap": null,
            "max_width": null,
            "order": null,
            "_view_module_version": "1.2.0",
            "grid_template_areas": null,
            "object_position": null,
            "object_fit": null,
            "grid_auto_columns": null,
            "margin": null,
            "display": null,
            "left": null
          }
        },
        "7dca8b171397408988aed98e35ac08d8": {
          "model_module": "@jupyter-widgets/controls",
          "model_name": "DescriptionStyleModel",
          "state": {
            "_view_name": "StyleView",
            "_model_name": "DescriptionStyleModel",
            "description_width": "",
            "_view_module": "@jupyter-widgets/base",
            "_model_module_version": "1.5.0",
            "_view_count": null,
            "_view_module_version": "1.2.0",
            "_model_module": "@jupyter-widgets/controls"
          }
        },
        "a2640ac321d740b3bae6ee3b2c7b10b2": {
          "model_module": "@jupyter-widgets/base",
          "model_name": "LayoutModel",
          "state": {
            "_view_name": "LayoutView",
            "grid_template_rows": null,
            "right": null,
            "justify_content": null,
            "_view_module": "@jupyter-widgets/base",
            "overflow": null,
            "_model_module_version": "1.2.0",
            "_view_count": null,
            "flex_flow": null,
            "width": null,
            "min_width": null,
            "border": null,
            "align_items": null,
            "bottom": null,
            "_model_module": "@jupyter-widgets/base",
            "top": null,
            "grid_column": null,
            "overflow_y": null,
            "overflow_x": null,
            "grid_auto_flow": null,
            "grid_area": null,
            "grid_template_columns": null,
            "flex": null,
            "_model_name": "LayoutModel",
            "justify_items": null,
            "grid_row": null,
            "max_height": null,
            "align_content": null,
            "visibility": null,
            "align_self": null,
            "height": null,
            "min_height": null,
            "padding": null,
            "grid_auto_rows": null,
            "grid_gap": null,
            "max_width": null,
            "order": null,
            "_view_module_version": "1.2.0",
            "grid_template_areas": null,
            "object_position": null,
            "object_fit": null,
            "grid_auto_columns": null,
            "margin": null,
            "display": null,
            "left": null
          }
        },
        "82011c73247e42b5823f9b173e4ff59c": {
          "model_module": "@jupyter-widgets/controls",
          "model_name": "HBoxModel",
          "state": {
            "_view_name": "HBoxView",
            "_dom_classes": [],
            "_model_name": "HBoxModel",
            "_view_module": "@jupyter-widgets/controls",
            "_model_module_version": "1.5.0",
            "_view_count": null,
            "_view_module_version": "1.5.0",
            "box_style": "",
            "layout": "IPY_MODEL_3e35c034051f4f27a19cff47b61a9833",
            "_model_module": "@jupyter-widgets/controls",
            "children": [
              "IPY_MODEL_c4cfa8f00dba4055bbcd1418f3c0bc48",
              "IPY_MODEL_1d538d8a471648a38b7d4be2c6eaa0e5"
            ]
          }
        },
        "3e35c034051f4f27a19cff47b61a9833": {
          "model_module": "@jupyter-widgets/base",
          "model_name": "LayoutModel",
          "state": {
            "_view_name": "LayoutView",
            "grid_template_rows": null,
            "right": null,
            "justify_content": null,
            "_view_module": "@jupyter-widgets/base",
            "overflow": null,
            "_model_module_version": "1.2.0",
            "_view_count": null,
            "flex_flow": null,
            "width": null,
            "min_width": null,
            "border": null,
            "align_items": null,
            "bottom": null,
            "_model_module": "@jupyter-widgets/base",
            "top": null,
            "grid_column": null,
            "overflow_y": null,
            "overflow_x": null,
            "grid_auto_flow": null,
            "grid_area": null,
            "grid_template_columns": null,
            "flex": null,
            "_model_name": "LayoutModel",
            "justify_items": null,
            "grid_row": null,
            "max_height": null,
            "align_content": null,
            "visibility": null,
            "align_self": null,
            "height": null,
            "min_height": null,
            "padding": null,
            "grid_auto_rows": null,
            "grid_gap": null,
            "max_width": null,
            "order": null,
            "_view_module_version": "1.2.0",
            "grid_template_areas": null,
            "object_position": null,
            "object_fit": null,
            "grid_auto_columns": null,
            "margin": null,
            "display": null,
            "left": null
          }
        },
        "c4cfa8f00dba4055bbcd1418f3c0bc48": {
          "model_module": "@jupyter-widgets/controls",
          "model_name": "FloatProgressModel",
          "state": {
            "_view_name": "ProgressView",
            "style": "IPY_MODEL_39b06d58459a4188bc823dd1248618da",
            "_dom_classes": [],
            "description": "Downloading: 100%",
            "_model_name": "FloatProgressModel",
            "bar_style": "success",
            "max": 466062,
            "_view_module": "@jupyter-widgets/controls",
            "_model_module_version": "1.5.0",
            "value": 466062,
            "_view_count": null,
            "_view_module_version": "1.5.0",
            "orientation": "horizontal",
            "min": 0,
            "description_tooltip": null,
            "_model_module": "@jupyter-widgets/controls",
            "layout": "IPY_MODEL_50e0c692d39f45daaeda433622d36a0e"
          }
        },
        "1d538d8a471648a38b7d4be2c6eaa0e5": {
          "model_module": "@jupyter-widgets/controls",
          "model_name": "HTMLModel",
          "state": {
            "_view_name": "HTMLView",
            "style": "IPY_MODEL_e50366f3d44a4c1b9479cf824fd3120c",
            "_dom_classes": [],
            "description": "",
            "_model_name": "HTMLModel",
            "placeholder": "​",
            "_view_module": "@jupyter-widgets/controls",
            "_model_module_version": "1.5.0",
            "value": " 466k/466k [00:00&lt;00:00, 2.73MB/s]",
            "_view_count": null,
            "_view_module_version": "1.5.0",
            "description_tooltip": null,
            "_model_module": "@jupyter-widgets/controls",
            "layout": "IPY_MODEL_c14f1e5e62e0403bb775b328e75e93b1"
          }
        },
        "39b06d58459a4188bc823dd1248618da": {
          "model_module": "@jupyter-widgets/controls",
          "model_name": "ProgressStyleModel",
          "state": {
            "_view_name": "StyleView",
            "_model_name": "ProgressStyleModel",
            "description_width": "initial",
            "_view_module": "@jupyter-widgets/base",
            "_model_module_version": "1.5.0",
            "_view_count": null,
            "_view_module_version": "1.2.0",
            "bar_color": null,
            "_model_module": "@jupyter-widgets/controls"
          }
        },
        "50e0c692d39f45daaeda433622d36a0e": {
          "model_module": "@jupyter-widgets/base",
          "model_name": "LayoutModel",
          "state": {
            "_view_name": "LayoutView",
            "grid_template_rows": null,
            "right": null,
            "justify_content": null,
            "_view_module": "@jupyter-widgets/base",
            "overflow": null,
            "_model_module_version": "1.2.0",
            "_view_count": null,
            "flex_flow": null,
            "width": null,
            "min_width": null,
            "border": null,
            "align_items": null,
            "bottom": null,
            "_model_module": "@jupyter-widgets/base",
            "top": null,
            "grid_column": null,
            "overflow_y": null,
            "overflow_x": null,
            "grid_auto_flow": null,
            "grid_area": null,
            "grid_template_columns": null,
            "flex": null,
            "_model_name": "LayoutModel",
            "justify_items": null,
            "grid_row": null,
            "max_height": null,
            "align_content": null,
            "visibility": null,
            "align_self": null,
            "height": null,
            "min_height": null,
            "padding": null,
            "grid_auto_rows": null,
            "grid_gap": null,
            "max_width": null,
            "order": null,
            "_view_module_version": "1.2.0",
            "grid_template_areas": null,
            "object_position": null,
            "object_fit": null,
            "grid_auto_columns": null,
            "margin": null,
            "display": null,
            "left": null
          }
        },
        "e50366f3d44a4c1b9479cf824fd3120c": {
          "model_module": "@jupyter-widgets/controls",
          "model_name": "DescriptionStyleModel",
          "state": {
            "_view_name": "StyleView",
            "_model_name": "DescriptionStyleModel",
            "description_width": "",
            "_view_module": "@jupyter-widgets/base",
            "_model_module_version": "1.5.0",
            "_view_count": null,
            "_view_module_version": "1.2.0",
            "_model_module": "@jupyter-widgets/controls"
          }
        },
        "c14f1e5e62e0403bb775b328e75e93b1": {
          "model_module": "@jupyter-widgets/base",
          "model_name": "LayoutModel",
          "state": {
            "_view_name": "LayoutView",
            "grid_template_rows": null,
            "right": null,
            "justify_content": null,
            "_view_module": "@jupyter-widgets/base",
            "overflow": null,
            "_model_module_version": "1.2.0",
            "_view_count": null,
            "flex_flow": null,
            "width": null,
            "min_width": null,
            "border": null,
            "align_items": null,
            "bottom": null,
            "_model_module": "@jupyter-widgets/base",
            "top": null,
            "grid_column": null,
            "overflow_y": null,
            "overflow_x": null,
            "grid_auto_flow": null,
            "grid_area": null,
            "grid_template_columns": null,
            "flex": null,
            "_model_name": "LayoutModel",
            "justify_items": null,
            "grid_row": null,
            "max_height": null,
            "align_content": null,
            "visibility": null,
            "align_self": null,
            "height": null,
            "min_height": null,
            "padding": null,
            "grid_auto_rows": null,
            "grid_gap": null,
            "max_width": null,
            "order": null,
            "_view_module_version": "1.2.0",
            "grid_template_areas": null,
            "object_position": null,
            "object_fit": null,
            "grid_auto_columns": null,
            "margin": null,
            "display": null,
            "left": null
          }
        },
        "9116e4c55c4d4a57a6dd86abc9d59b9d": {
          "model_module": "@jupyter-widgets/controls",
          "model_name": "HBoxModel",
          "state": {
            "_view_name": "HBoxView",
            "_dom_classes": [],
            "_model_name": "HBoxModel",
            "_view_module": "@jupyter-widgets/controls",
            "_model_module_version": "1.5.0",
            "_view_count": null,
            "_view_module_version": "1.5.0",
            "box_style": "",
            "layout": "IPY_MODEL_90e1d8f30eb945b597cab70e94ec7d57",
            "_model_module": "@jupyter-widgets/controls",
            "children": [
              "IPY_MODEL_754d2008b014467e964ff3a5a0621bcc",
              "IPY_MODEL_e0b39521c5734e3c8f7a12abf97e4f00"
            ]
          }
        },
        "90e1d8f30eb945b597cab70e94ec7d57": {
          "model_module": "@jupyter-widgets/base",
          "model_name": "LayoutModel",
          "state": {
            "_view_name": "LayoutView",
            "grid_template_rows": null,
            "right": null,
            "justify_content": null,
            "_view_module": "@jupyter-widgets/base",
            "overflow": null,
            "_model_module_version": "1.2.0",
            "_view_count": null,
            "flex_flow": null,
            "width": null,
            "min_width": null,
            "border": null,
            "align_items": null,
            "bottom": null,
            "_model_module": "@jupyter-widgets/base",
            "top": null,
            "grid_column": null,
            "overflow_y": null,
            "overflow_x": null,
            "grid_auto_flow": null,
            "grid_area": null,
            "grid_template_columns": null,
            "flex": null,
            "_model_name": "LayoutModel",
            "justify_items": null,
            "grid_row": null,
            "max_height": null,
            "align_content": null,
            "visibility": null,
            "align_self": null,
            "height": null,
            "min_height": null,
            "padding": null,
            "grid_auto_rows": null,
            "grid_gap": null,
            "max_width": null,
            "order": null,
            "_view_module_version": "1.2.0",
            "grid_template_areas": null,
            "object_position": null,
            "object_fit": null,
            "grid_auto_columns": null,
            "margin": null,
            "display": null,
            "left": null
          }
        },
        "754d2008b014467e964ff3a5a0621bcc": {
          "model_module": "@jupyter-widgets/controls",
          "model_name": "FloatProgressModel",
          "state": {
            "_view_name": "ProgressView",
            "style": "IPY_MODEL_8db2d58742334d6ca6f61d9cdd9cd416",
            "_dom_classes": [],
            "description": "Downloading: 100%",
            "_model_name": "FloatProgressModel",
            "bar_style": "success",
            "max": 570,
            "_view_module": "@jupyter-widgets/controls",
            "_model_module_version": "1.5.0",
            "value": 570,
            "_view_count": null,
            "_view_module_version": "1.5.0",
            "orientation": "horizontal",
            "min": 0,
            "description_tooltip": null,
            "_model_module": "@jupyter-widgets/controls",
            "layout": "IPY_MODEL_ea7c16842df14cb49e517bf6fa0d8db2"
          }
        },
        "e0b39521c5734e3c8f7a12abf97e4f00": {
          "model_module": "@jupyter-widgets/controls",
          "model_name": "HTMLModel",
          "state": {
            "_view_name": "HTMLView",
            "style": "IPY_MODEL_91e77c5227bf40a593cef2bd13a211e9",
            "_dom_classes": [],
            "description": "",
            "_model_name": "HTMLModel",
            "placeholder": "​",
            "_view_module": "@jupyter-widgets/controls",
            "_model_module_version": "1.5.0",
            "value": " 570/570 [00:09&lt;00:00, 58.6B/s]",
            "_view_count": null,
            "_view_module_version": "1.5.0",
            "description_tooltip": null,
            "_model_module": "@jupyter-widgets/controls",
            "layout": "IPY_MODEL_952652215a544d4bba3a03aee44b04f2"
          }
        },
        "8db2d58742334d6ca6f61d9cdd9cd416": {
          "model_module": "@jupyter-widgets/controls",
          "model_name": "ProgressStyleModel",
          "state": {
            "_view_name": "StyleView",
            "_model_name": "ProgressStyleModel",
            "description_width": "initial",
            "_view_module": "@jupyter-widgets/base",
            "_model_module_version": "1.5.0",
            "_view_count": null,
            "_view_module_version": "1.2.0",
            "bar_color": null,
            "_model_module": "@jupyter-widgets/controls"
          }
        },
        "ea7c16842df14cb49e517bf6fa0d8db2": {
          "model_module": "@jupyter-widgets/base",
          "model_name": "LayoutModel",
          "state": {
            "_view_name": "LayoutView",
            "grid_template_rows": null,
            "right": null,
            "justify_content": null,
            "_view_module": "@jupyter-widgets/base",
            "overflow": null,
            "_model_module_version": "1.2.0",
            "_view_count": null,
            "flex_flow": null,
            "width": null,
            "min_width": null,
            "border": null,
            "align_items": null,
            "bottom": null,
            "_model_module": "@jupyter-widgets/base",
            "top": null,
            "grid_column": null,
            "overflow_y": null,
            "overflow_x": null,
            "grid_auto_flow": null,
            "grid_area": null,
            "grid_template_columns": null,
            "flex": null,
            "_model_name": "LayoutModel",
            "justify_items": null,
            "grid_row": null,
            "max_height": null,
            "align_content": null,
            "visibility": null,
            "align_self": null,
            "height": null,
            "min_height": null,
            "padding": null,
            "grid_auto_rows": null,
            "grid_gap": null,
            "max_width": null,
            "order": null,
            "_view_module_version": "1.2.0",
            "grid_template_areas": null,
            "object_position": null,
            "object_fit": null,
            "grid_auto_columns": null,
            "margin": null,
            "display": null,
            "left": null
          }
        },
        "91e77c5227bf40a593cef2bd13a211e9": {
          "model_module": "@jupyter-widgets/controls",
          "model_name": "DescriptionStyleModel",
          "state": {
            "_view_name": "StyleView",
            "_model_name": "DescriptionStyleModel",
            "description_width": "",
            "_view_module": "@jupyter-widgets/base",
            "_model_module_version": "1.5.0",
            "_view_count": null,
            "_view_module_version": "1.2.0",
            "_model_module": "@jupyter-widgets/controls"
          }
        },
        "952652215a544d4bba3a03aee44b04f2": {
          "model_module": "@jupyter-widgets/base",
          "model_name": "LayoutModel",
          "state": {
            "_view_name": "LayoutView",
            "grid_template_rows": null,
            "right": null,
            "justify_content": null,
            "_view_module": "@jupyter-widgets/base",
            "overflow": null,
            "_model_module_version": "1.2.0",
            "_view_count": null,
            "flex_flow": null,
            "width": null,
            "min_width": null,
            "border": null,
            "align_items": null,
            "bottom": null,
            "_model_module": "@jupyter-widgets/base",
            "top": null,
            "grid_column": null,
            "overflow_y": null,
            "overflow_x": null,
            "grid_auto_flow": null,
            "grid_area": null,
            "grid_template_columns": null,
            "flex": null,
            "_model_name": "LayoutModel",
            "justify_items": null,
            "grid_row": null,
            "max_height": null,
            "align_content": null,
            "visibility": null,
            "align_self": null,
            "height": null,
            "min_height": null,
            "padding": null,
            "grid_auto_rows": null,
            "grid_gap": null,
            "max_width": null,
            "order": null,
            "_view_module_version": "1.2.0",
            "grid_template_areas": null,
            "object_position": null,
            "object_fit": null,
            "grid_auto_columns": null,
            "margin": null,
            "display": null,
            "left": null
          }
        },
        "2afe4b49e896413abc37ef3c989f4b52": {
          "model_module": "@jupyter-widgets/controls",
          "model_name": "HBoxModel",
          "state": {
            "_view_name": "HBoxView",
            "_dom_classes": [],
            "_model_name": "HBoxModel",
            "_view_module": "@jupyter-widgets/controls",
            "_model_module_version": "1.5.0",
            "_view_count": null,
            "_view_module_version": "1.5.0",
            "box_style": "",
            "layout": "IPY_MODEL_62365302356e4a409489a5d0b8825c47",
            "_model_module": "@jupyter-widgets/controls",
            "children": [
              "IPY_MODEL_29f920668a8a4eeab7a5fe8e7d0c08d2",
              "IPY_MODEL_2f56cef8534a44bda1ad6eb86fc90b9e"
            ]
          }
        },
        "62365302356e4a409489a5d0b8825c47": {
          "model_module": "@jupyter-widgets/base",
          "model_name": "LayoutModel",
          "state": {
            "_view_name": "LayoutView",
            "grid_template_rows": null,
            "right": null,
            "justify_content": null,
            "_view_module": "@jupyter-widgets/base",
            "overflow": null,
            "_model_module_version": "1.2.0",
            "_view_count": null,
            "flex_flow": null,
            "width": null,
            "min_width": null,
            "border": null,
            "align_items": null,
            "bottom": null,
            "_model_module": "@jupyter-widgets/base",
            "top": null,
            "grid_column": null,
            "overflow_y": null,
            "overflow_x": null,
            "grid_auto_flow": null,
            "grid_area": null,
            "grid_template_columns": null,
            "flex": null,
            "_model_name": "LayoutModel",
            "justify_items": null,
            "grid_row": null,
            "max_height": null,
            "align_content": null,
            "visibility": null,
            "align_self": null,
            "height": null,
            "min_height": null,
            "padding": null,
            "grid_auto_rows": null,
            "grid_gap": null,
            "max_width": null,
            "order": null,
            "_view_module_version": "1.2.0",
            "grid_template_areas": null,
            "object_position": null,
            "object_fit": null,
            "grid_auto_columns": null,
            "margin": null,
            "display": null,
            "left": null
          }
        },
        "29f920668a8a4eeab7a5fe8e7d0c08d2": {
          "model_module": "@jupyter-widgets/controls",
          "model_name": "FloatProgressModel",
          "state": {
            "_view_name": "ProgressView",
            "style": "IPY_MODEL_5c25e5df12cd4064bd7845ab7f4aa9b2",
            "_dom_classes": [],
            "description": "Downloading: 100%",
            "_model_name": "FloatProgressModel",
            "bar_style": "success",
            "max": 440473133,
            "_view_module": "@jupyter-widgets/controls",
            "_model_module_version": "1.5.0",
            "value": 440473133,
            "_view_count": null,
            "_view_module_version": "1.5.0",
            "orientation": "horizontal",
            "min": 0,
            "description_tooltip": null,
            "_model_module": "@jupyter-widgets/controls",
            "layout": "IPY_MODEL_bc195ffef96f417486473af69c5a6572"
          }
        },
        "2f56cef8534a44bda1ad6eb86fc90b9e": {
          "model_module": "@jupyter-widgets/controls",
          "model_name": "HTMLModel",
          "state": {
            "_view_name": "HTMLView",
            "style": "IPY_MODEL_8ef445ea36ab46d7a6a02579edfbc68c",
            "_dom_classes": [],
            "description": "",
            "_model_name": "HTMLModel",
            "placeholder": "​",
            "_view_module": "@jupyter-widgets/controls",
            "_model_module_version": "1.5.0",
            "value": " 440M/440M [00:09&lt;00:00, 47.1MB/s]",
            "_view_count": null,
            "_view_module_version": "1.5.0",
            "description_tooltip": null,
            "_model_module": "@jupyter-widgets/controls",
            "layout": "IPY_MODEL_818e6d17298a4eae9f56a5916889f31b"
          }
        },
        "5c25e5df12cd4064bd7845ab7f4aa9b2": {
          "model_module": "@jupyter-widgets/controls",
          "model_name": "ProgressStyleModel",
          "state": {
            "_view_name": "StyleView",
            "_model_name": "ProgressStyleModel",
            "description_width": "initial",
            "_view_module": "@jupyter-widgets/base",
            "_model_module_version": "1.5.0",
            "_view_count": null,
            "_view_module_version": "1.2.0",
            "bar_color": null,
            "_model_module": "@jupyter-widgets/controls"
          }
        },
        "bc195ffef96f417486473af69c5a6572": {
          "model_module": "@jupyter-widgets/base",
          "model_name": "LayoutModel",
          "state": {
            "_view_name": "LayoutView",
            "grid_template_rows": null,
            "right": null,
            "justify_content": null,
            "_view_module": "@jupyter-widgets/base",
            "overflow": null,
            "_model_module_version": "1.2.0",
            "_view_count": null,
            "flex_flow": null,
            "width": null,
            "min_width": null,
            "border": null,
            "align_items": null,
            "bottom": null,
            "_model_module": "@jupyter-widgets/base",
            "top": null,
            "grid_column": null,
            "overflow_y": null,
            "overflow_x": null,
            "grid_auto_flow": null,
            "grid_area": null,
            "grid_template_columns": null,
            "flex": null,
            "_model_name": "LayoutModel",
            "justify_items": null,
            "grid_row": null,
            "max_height": null,
            "align_content": null,
            "visibility": null,
            "align_self": null,
            "height": null,
            "min_height": null,
            "padding": null,
            "grid_auto_rows": null,
            "grid_gap": null,
            "max_width": null,
            "order": null,
            "_view_module_version": "1.2.0",
            "grid_template_areas": null,
            "object_position": null,
            "object_fit": null,
            "grid_auto_columns": null,
            "margin": null,
            "display": null,
            "left": null
          }
        },
        "8ef445ea36ab46d7a6a02579edfbc68c": {
          "model_module": "@jupyter-widgets/controls",
          "model_name": "DescriptionStyleModel",
          "state": {
            "_view_name": "StyleView",
            "_model_name": "DescriptionStyleModel",
            "description_width": "",
            "_view_module": "@jupyter-widgets/base",
            "_model_module_version": "1.5.0",
            "_view_count": null,
            "_view_module_version": "1.2.0",
            "_model_module": "@jupyter-widgets/controls"
          }
        },
        "818e6d17298a4eae9f56a5916889f31b": {
          "model_module": "@jupyter-widgets/base",
          "model_name": "LayoutModel",
          "state": {
            "_view_name": "LayoutView",
            "grid_template_rows": null,
            "right": null,
            "justify_content": null,
            "_view_module": "@jupyter-widgets/base",
            "overflow": null,
            "_model_module_version": "1.2.0",
            "_view_count": null,
            "flex_flow": null,
            "width": null,
            "min_width": null,
            "border": null,
            "align_items": null,
            "bottom": null,
            "_model_module": "@jupyter-widgets/base",
            "top": null,
            "grid_column": null,
            "overflow_y": null,
            "overflow_x": null,
            "grid_auto_flow": null,
            "grid_area": null,
            "grid_template_columns": null,
            "flex": null,
            "_model_name": "LayoutModel",
            "justify_items": null,
            "grid_row": null,
            "max_height": null,
            "align_content": null,
            "visibility": null,
            "align_self": null,
            "height": null,
            "min_height": null,
            "padding": null,
            "grid_auto_rows": null,
            "grid_gap": null,
            "max_width": null,
            "order": null,
            "_view_module_version": "1.2.0",
            "grid_template_areas": null,
            "object_position": null,
            "object_fit": null,
            "grid_auto_columns": null,
            "margin": null,
            "display": null,
            "left": null
          }
        }
      }
    }
  },
  "cells": [
    {
      "cell_type": "markdown",
      "metadata": {
        "id": "view-in-github",
        "colab_type": "text"
      },
      "source": [
        "<a href=\"https://colab.research.google.com/github/funpi89/NLP_marathon/blob/main/huggingface_bert_demo.ipynb\" target=\"_parent\"><img src=\"https://colab.research.google.com/assets/colab-badge.svg\" alt=\"Open In Colab\"/></a>"
      ]
    },
    {
      "cell_type": "markdown",
      "metadata": {
        "id": "PBnvA_ZjXorr"
      },
      "source": [
        "# HuggingFace Bert 預訓練模型的使用方式"
      ]
    },
    {
      "cell_type": "code",
      "metadata": {
        "colab": {
          "base_uri": "https://localhost:8080/"
        },
        "id": "nv1pHp-dq0Wl",
        "outputId": "94e1b4aa-992c-49c3-def8-90bbaecb882a"
      },
      "source": [
        "from google.colab import drive\n",
        "drive.mount('/content/drive')"
      ],
      "execution_count": 1,
      "outputs": [
        {
          "output_type": "stream",
          "text": [
            "Mounted at /content/drive\n"
          ],
          "name": "stdout"
        }
      ]
    },
    {
      "cell_type": "code",
      "metadata": {
        "colab": {
          "base_uri": "https://localhost:8080/"
        },
        "id": "9fjdOKMCrIi6",
        "outputId": "65206b26-c299-4ee6-e53f-2bc5c2ae94dc"
      },
      "source": [
        "!pip install transformers"
      ],
      "execution_count": 2,
      "outputs": [
        {
          "output_type": "stream",
          "text": [
            "Collecting transformers\n",
            "\u001b[?25l  Downloading https://files.pythonhosted.org/packages/b5/d5/c6c23ad75491467a9a84e526ef2364e523d45e2b0fae28a7cbe8689e7e84/transformers-4.8.1-py3-none-any.whl (2.5MB)\n",
            "\u001b[K     |████████████████████████████████| 2.5MB 8.0MB/s \n",
            "\u001b[?25hRequirement already satisfied: pyyaml in /usr/local/lib/python3.7/dist-packages (from transformers) (3.13)\n",
            "Requirement already satisfied: requests in /usr/local/lib/python3.7/dist-packages (from transformers) (2.23.0)\n",
            "Requirement already satisfied: packaging in /usr/local/lib/python3.7/dist-packages (from transformers) (20.9)\n",
            "Requirement already satisfied: filelock in /usr/local/lib/python3.7/dist-packages (from transformers) (3.0.12)\n",
            "Requirement already satisfied: numpy>=1.17 in /usr/local/lib/python3.7/dist-packages (from transformers) (1.19.5)\n",
            "Requirement already satisfied: tqdm>=4.27 in /usr/local/lib/python3.7/dist-packages (from transformers) (4.41.1)\n",
            "Collecting huggingface-hub==0.0.12\n",
            "  Downloading https://files.pythonhosted.org/packages/2f/ee/97e253668fda9b17e968b3f97b2f8e53aa0127e8807d24a547687423fe0b/huggingface_hub-0.0.12-py3-none-any.whl\n",
            "Requirement already satisfied: regex!=2019.12.17 in /usr/local/lib/python3.7/dist-packages (from transformers) (2019.12.20)\n",
            "Requirement already satisfied: importlib-metadata; python_version < \"3.8\" in /usr/local/lib/python3.7/dist-packages (from transformers) (4.5.0)\n",
            "Collecting sacremoses\n",
            "\u001b[?25l  Downloading https://files.pythonhosted.org/packages/75/ee/67241dc87f266093c533a2d4d3d69438e57d7a90abb216fa076e7d475d4a/sacremoses-0.0.45-py3-none-any.whl (895kB)\n",
            "\u001b[K     |████████████████████████████████| 901kB 43.2MB/s \n",
            "\u001b[?25hCollecting tokenizers<0.11,>=0.10.1\n",
            "\u001b[?25l  Downloading https://files.pythonhosted.org/packages/d4/e2/df3543e8ffdab68f5acc73f613de9c2b155ac47f162e725dcac87c521c11/tokenizers-0.10.3-cp37-cp37m-manylinux_2_5_x86_64.manylinux1_x86_64.manylinux_2_12_x86_64.manylinux2010_x86_64.whl (3.3MB)\n",
            "\u001b[K     |████████████████████████████████| 3.3MB 47.6MB/s \n",
            "\u001b[?25hRequirement already satisfied: chardet<4,>=3.0.2 in /usr/local/lib/python3.7/dist-packages (from requests->transformers) (3.0.4)\n",
            "Requirement already satisfied: certifi>=2017.4.17 in /usr/local/lib/python3.7/dist-packages (from requests->transformers) (2021.5.30)\n",
            "Requirement already satisfied: idna<3,>=2.5 in /usr/local/lib/python3.7/dist-packages (from requests->transformers) (2.10)\n",
            "Requirement already satisfied: urllib3!=1.25.0,!=1.25.1,<1.26,>=1.21.1 in /usr/local/lib/python3.7/dist-packages (from requests->transformers) (1.24.3)\n",
            "Requirement already satisfied: pyparsing>=2.0.2 in /usr/local/lib/python3.7/dist-packages (from packaging->transformers) (2.4.7)\n",
            "Requirement already satisfied: typing-extensions in /usr/local/lib/python3.7/dist-packages (from huggingface-hub==0.0.12->transformers) (3.7.4.3)\n",
            "Requirement already satisfied: zipp>=0.5 in /usr/local/lib/python3.7/dist-packages (from importlib-metadata; python_version < \"3.8\"->transformers) (3.4.1)\n",
            "Requirement already satisfied: click in /usr/local/lib/python3.7/dist-packages (from sacremoses->transformers) (7.1.2)\n",
            "Requirement already satisfied: joblib in /usr/local/lib/python3.7/dist-packages (from sacremoses->transformers) (1.0.1)\n",
            "Requirement already satisfied: six in /usr/local/lib/python3.7/dist-packages (from sacremoses->transformers) (1.15.0)\n",
            "Installing collected packages: huggingface-hub, sacremoses, tokenizers, transformers\n",
            "Successfully installed huggingface-hub-0.0.12 sacremoses-0.0.45 tokenizers-0.10.3 transformers-4.8.1\n"
          ],
          "name": "stdout"
        }
      ]
    },
    {
      "cell_type": "markdown",
      "metadata": {
        "id": "ZikMKsxLXorv"
      },
      "source": [
        "# 載入資料與套件, 進行切割與預處理"
      ]
    },
    {
      "cell_type": "code",
      "metadata": {
        "id": "pRaDMrrUXorw"
      },
      "source": [
        "# 載入相關套件\n",
        "import os\n",
        "import re, warnings\n",
        "from tqdm import tqdm\n",
        "import numpy as np\n",
        "import pandas as pd\n",
        "import matplotlib.pyplot as plt\n",
        "\n",
        "warnings.filterwarnings(\"ignore\")\n",
        "%matplotlib inline"
      ],
      "execution_count": 3,
      "outputs": []
    },
    {
      "cell_type": "code",
      "metadata": {
        "id": "taXO-m_gXorw"
      },
      "source": [
        "# 將訓練資料切割成 訓練集 / 驗證集\n",
        "from sklearn.model_selection import train_test_split\n",
        "\n",
        "df =  pd.read_csv('/content/drive/MyDrive/NLPMarathon/huggingface/data/disaster/train.csv')\n",
        "X = df.text.values\n",
        "y = df.target.values\n",
        "\n",
        "X_train, X_val, y_train, y_val = train_test_split(X, y, test_size=0.1, random_state=2020)"
      ],
      "execution_count": 4,
      "outputs": []
    },
    {
      "cell_type": "code",
      "metadata": {
        "id": "n1RxDkm2Xorw",
        "colab": {
          "base_uri": "https://localhost:8080/",
          "height": 204
        },
        "outputId": "139de2f9-dfec-4d88-e85f-8c8880d675da"
      },
      "source": [
        "# 載入測試資料\n",
        "test_df = pd.read_csv('/content/drive/MyDrive/NLPMarathon/huggingface/data/disaster/train.csv')\n",
        "test_df = test_df[['id', 'text']]\n",
        "test_df.sample(5)"
      ],
      "execution_count": 5,
      "outputs": [
        {
          "output_type": "execute_result",
          "data": {
            "text/html": [
              "<div>\n",
              "<style scoped>\n",
              "    .dataframe tbody tr th:only-of-type {\n",
              "        vertical-align: middle;\n",
              "    }\n",
              "\n",
              "    .dataframe tbody tr th {\n",
              "        vertical-align: top;\n",
              "    }\n",
              "\n",
              "    .dataframe thead th {\n",
              "        text-align: right;\n",
              "    }\n",
              "</style>\n",
              "<table border=\"1\" class=\"dataframe\">\n",
              "  <thead>\n",
              "    <tr style=\"text-align: right;\">\n",
              "      <th></th>\n",
              "      <th>id</th>\n",
              "      <th>text</th>\n",
              "    </tr>\n",
              "  </thead>\n",
              "  <tbody>\n",
              "    <tr>\n",
              "      <th>2954</th>\n",
              "      <td>4245</td>\n",
              "      <td>.@DinosaurDracula Felt remorse for missing Pam...</td>\n",
              "    </tr>\n",
              "    <tr>\n",
              "      <th>2580</th>\n",
              "      <td>3700</td>\n",
              "      <td>@justicemalala @nkeajresq Nkea destroyed lives...</td>\n",
              "    </tr>\n",
              "    <tr>\n",
              "      <th>3661</th>\n",
              "      <td>5211</td>\n",
              "      <td>@EBROINTHEAM jay....big L....pun....biggie...w...</td>\n",
              "    </tr>\n",
              "    <tr>\n",
              "      <th>272</th>\n",
              "      <td>396</td>\n",
              "      <td>I'm gonna fight Taylor as soon as I get there.</td>\n",
              "    </tr>\n",
              "    <tr>\n",
              "      <th>1985</th>\n",
              "      <td>2856</td>\n",
              "      <td>I liked a @YouTube video http://t.co/tBX8cAKdr...</td>\n",
              "    </tr>\n",
              "  </tbody>\n",
              "</table>\n",
              "</div>"
            ],
            "text/plain": [
              "        id                                               text\n",
              "2954  4245  .@DinosaurDracula Felt remorse for missing Pam...\n",
              "2580  3700  @justicemalala @nkeajresq Nkea destroyed lives...\n",
              "3661  5211  @EBROINTHEAM jay....big L....pun....biggie...w...\n",
              "272    396     I'm gonna fight Taylor as soon as I get there.\n",
              "1985  2856  I liked a @YouTube video http://t.co/tBX8cAKdr..."
            ]
          },
          "metadata": {
            "tags": []
          },
          "execution_count": 5
        }
      ]
    },
    {
      "cell_type": "code",
      "metadata": {
        "id": "kIzPaEnAXorx",
        "colab": {
          "base_uri": "https://localhost:8080/"
        },
        "outputId": "01b0cd0c-931e-4b67-b58b-7e4cba6c0f93"
      },
      "source": [
        "# 載入 pytorch 套件, 依照現有環境判定是否使用 GPU 計算\n",
        "import torch\n",
        "\n",
        "if torch.cuda.is_available():       \n",
        "    device = torch.device(\"cuda\")\n",
        "    print(f'There are {torch.cuda.device_count()} GPU(s) available.')\n",
        "    print('Device name:', torch.cuda.get_device_name(0))\n",
        "\n",
        "else:\n",
        "    print('No GPU available, using the CPU instead.')\n",
        "    device = torch.device(\"cpu\")"
      ],
      "execution_count": 6,
      "outputs": [
        {
          "output_type": "stream",
          "text": [
            "There are 1 GPU(s) available.\n",
            "Device name: Tesla T4\n"
          ],
          "name": "stdout"
        }
      ]
    },
    {
      "cell_type": "code",
      "metadata": {
        "id": "e662x6AuXory"
      },
      "source": [
        "# 簡化版前處理\n",
        "def text_preprocessing(text):\n",
        "    # 移除推特的姓名標籤 ('@name')\n",
        "    text = re.sub(r'(@.*?)[\\s]', ' ', text)\n",
        "    # 將 '&amp;' 替換成 '&'\n",
        "    text = re.sub(r'&amp;', '&', text)\n",
        "    # 移除文末的空白字元\n",
        "    text = re.sub(r'\\s+', ' ', text).strip()\n",
        "    return text"
      ],
      "execution_count": 7,
      "outputs": []
    },
    {
      "cell_type": "code",
      "metadata": {
        "id": "57N8Xn0FXory",
        "colab": {
          "base_uri": "https://localhost:8080/"
        },
        "outputId": "6359f459-a249-491d-c60f-a5df1b51f12f"
      },
      "source": [
        "# 印出第一組推文在前處理之前與之後的改變\n",
        "print('Original: ', X[0])\n",
        "print('Processed: ', text_preprocessing(X[0]))"
      ],
      "execution_count": 8,
      "outputs": [
        {
          "output_type": "stream",
          "text": [
            "Original:  Our Deeds are the Reason of this #earthquake May ALLAH Forgive us all\n",
            "Processed:  Our Deeds are the Reason of this #earthquake May ALLAH Forgive us all\n"
          ],
          "name": "stdout"
        }
      ]
    },
    {
      "cell_type": "markdown",
      "metadata": {
        "id": "Fss0y42lXory"
      },
      "source": [
        "# Step 4.1 : 載入 Bert 套件與 tokenizer, 將本文編碼"
      ]
    },
    {
      "cell_type": "code",
      "metadata": {
        "id": "JwN3_9e9Xorz",
        "colab": {
          "base_uri": "https://localhost:8080/",
          "height": 164,
          "referenced_widgets": [
            "1753e1bc3c08454bad6873081e55f13e",
            "1077599d77344b4fb2e74deb7bd30898",
            "370071bba35048ba85cf45989ee33ab6",
            "3a8d40ea4cf946fba0c64f63eabade4d",
            "4ee298a1a731447f9717a1aa1e3a73ea",
            "58fca3e8273c474b915dd795e3b4d31d",
            "4e45a8dc49eb439ea8b37139a546c1b0",
            "cf878f1d2cab4dd289f6d2831da3fe34",
            "b12ebfb172044b278c13d2e2b628181c",
            "c5a132ff43e54815be08b12f8e21766f",
            "aaecaf459b2a4086902a59da48b7fd07",
            "56917611427744eabdfc19c7634843c0",
            "c44cb5d9d0274ca78c57ec35a9645cea",
            "21fb2fe5cb15426da4e2afc499fa068c",
            "7dca8b171397408988aed98e35ac08d8",
            "a2640ac321d740b3bae6ee3b2c7b10b2",
            "82011c73247e42b5823f9b173e4ff59c",
            "3e35c034051f4f27a19cff47b61a9833",
            "c4cfa8f00dba4055bbcd1418f3c0bc48",
            "1d538d8a471648a38b7d4be2c6eaa0e5",
            "39b06d58459a4188bc823dd1248618da",
            "50e0c692d39f45daaeda433622d36a0e",
            "e50366f3d44a4c1b9479cf824fd3120c",
            "c14f1e5e62e0403bb775b328e75e93b1"
          ]
        },
        "outputId": "7aed2049-83b0-49b3-b704-1a11cb814cd7"
      },
      "source": [
        "# 載入 Bert 套件與 tokenizer\n",
        "from transformers import BertTokenizer\n",
        "tokenizer = BertTokenizer.from_pretrained('bert-base-uncased', do_lower_case=True)\n",
        "\n",
        "# 設定 Bert 的前處理函數\n",
        "def preprocessing_for_bert(data):\n",
        "    # 初始化要傳回的資料\n",
        "    input_ids = []\n",
        "    attention_masks = []\n",
        "    # 把所有文句用 tokenizer 編碼\n",
        "    for sent in data:\n",
        "        encoded_sent = tokenizer.encode_plus(\n",
        "            text=text_preprocessing(sent),  # 套用簡化版前處理函數\n",
        "            add_special_tokens=True,        # 加上 `[CLS]` 與 `[SEP]`\n",
        "            max_length=MAX_LEN,             # 需要填充的最大長度\n",
        "            pad_to_max_length=True,         # 是否要填充到最大長度\n",
        "            return_attention_mask=True      # 是否傳回 attention mask\n",
        "            )        \n",
        "        # 更新要傳回的資料\n",
        "        input_ids.append(encoded_sent.get('input_ids'))\n",
        "        attention_masks.append(encoded_sent.get('attention_mask'))\n",
        "    # 將傳回資料轉為 tensor\n",
        "    input_ids = torch.tensor(input_ids)\n",
        "    attention_masks = torch.tensor(attention_masks)\n",
        "\n",
        "    return input_ids, attention_masks"
      ],
      "execution_count": 9,
      "outputs": [
        {
          "output_type": "display_data",
          "data": {
            "application/vnd.jupyter.widget-view+json": {
              "model_id": "1753e1bc3c08454bad6873081e55f13e",
              "version_minor": 0,
              "version_major": 2
            },
            "text/plain": [
              "HBox(children=(FloatProgress(value=0.0, description='Downloading', max=231508.0, style=ProgressStyle(descripti…"
            ]
          },
          "metadata": {
            "tags": []
          }
        },
        {
          "output_type": "stream",
          "text": [
            "\n"
          ],
          "name": "stdout"
        },
        {
          "output_type": "display_data",
          "data": {
            "application/vnd.jupyter.widget-view+json": {
              "model_id": "b12ebfb172044b278c13d2e2b628181c",
              "version_minor": 0,
              "version_major": 2
            },
            "text/plain": [
              "HBox(children=(FloatProgress(value=0.0, description='Downloading', max=28.0, style=ProgressStyle(description_w…"
            ]
          },
          "metadata": {
            "tags": []
          }
        },
        {
          "output_type": "stream",
          "text": [
            "\n"
          ],
          "name": "stdout"
        },
        {
          "output_type": "display_data",
          "data": {
            "application/vnd.jupyter.widget-view+json": {
              "model_id": "82011c73247e42b5823f9b173e4ff59c",
              "version_minor": 0,
              "version_major": 2
            },
            "text/plain": [
              "HBox(children=(FloatProgress(value=0.0, description='Downloading', max=466062.0, style=ProgressStyle(descripti…"
            ]
          },
          "metadata": {
            "tags": []
          }
        },
        {
          "output_type": "stream",
          "text": [
            "\n"
          ],
          "name": "stdout"
        }
      ]
    },
    {
      "cell_type": "code",
      "metadata": {
        "id": "Q-IV-ocAXorz",
        "colab": {
          "base_uri": "https://localhost:8080/"
        },
        "outputId": "c984a1d1-7046-4f05-8c10-77d5dea4faa2"
      },
      "source": [
        "# 將訓練資料與測試資料的\"推文\"合併\n",
        "all_tweets = np.concatenate([df.text.values, test_df.text.values])\n",
        "\n",
        "# 將推文使用 tokenizer 加以編碼\n",
        "encoded_tweets = [tokenizer.encode(sent, add_special_tokens=True) for sent in all_tweets]\n",
        "\n",
        "# 找出最大的推文長度 (訓練資料 + 預測目標資料)\n",
        "max_len = max([len(sent) for sent in encoded_tweets])\n",
        "print('Max length: ', max_len)"
      ],
      "execution_count": 10,
      "outputs": [
        {
          "output_type": "stream",
          "text": [
            "Max length:  84\n"
          ],
          "name": "stdout"
        }
      ]
    },
    {
      "cell_type": "code",
      "metadata": {
        "id": "SEsq2oDjXor0",
        "colab": {
          "base_uri": "https://localhost:8080/"
        },
        "outputId": "4613d3ae-a97b-4679-ba51-383f035dcdcb"
      },
      "source": [
        "# 將上一格的 Max length 數值填入\n",
        "MAX_LEN = 84\n",
        "\n",
        "# 顯示第一筆資料的推文與期經過 Bert 的前處理函數 (preprocessing_for_bert) 的編碼結果 (確認函數正確)\n",
        "token_ids = list(preprocessing_for_bert([X[0]])[0].squeeze().numpy())\n",
        "print('Original: ', X[0])\n",
        "print('Token IDs: ', token_ids)\n",
        "\n",
        "# 使用 preprocessing_for_bert 將訓練 / 驗證集的推文進行編碼\n",
        "print('Tokenizing data...')\n",
        "train_inputs, train_masks = preprocessing_for_bert(X_train)\n",
        "val_inputs, val_masks = preprocessing_for_bert(X_val)"
      ],
      "execution_count": 11,
      "outputs": [
        {
          "output_type": "stream",
          "text": [
            "Truncation was not explicitly activated but `max_length` is provided a specific value, please use `truncation=True` to explicitly truncate examples to max length. Defaulting to 'longest_first' truncation strategy. If you encode pairs of sequences (GLUE-style) with the tokenizer you can select this strategy more precisely by providing a specific strategy to `truncation`.\n"
          ],
          "name": "stderr"
        },
        {
          "output_type": "stream",
          "text": [
            "Original:  Our Deeds are the Reason of this #earthquake May ALLAH Forgive us all\n",
            "Token IDs:  [101, 2256, 15616, 2024, 1996, 3114, 1997, 2023, 1001, 8372, 2089, 16455, 9641, 2149, 2035, 102, 0, 0, 0, 0, 0, 0, 0, 0, 0, 0, 0, 0, 0, 0, 0, 0, 0, 0, 0, 0, 0, 0, 0, 0, 0, 0, 0, 0, 0, 0, 0, 0, 0, 0, 0, 0, 0, 0, 0, 0, 0, 0, 0, 0, 0, 0, 0, 0, 0, 0, 0, 0, 0, 0, 0, 0, 0, 0, 0, 0, 0, 0, 0, 0, 0, 0, 0, 0]\n",
            "Tokenizing data...\n"
          ],
          "name": "stdout"
        }
      ]
    },
    {
      "cell_type": "markdown",
      "metadata": {
        "id": "QAsgLoIpXor0"
      },
      "source": [
        "# Step 4.2 : Fine Tune 前的準備 - 設定 batch size"
      ]
    },
    {
      "cell_type": "code",
      "metadata": {
        "id": "YNvL7tkBXor1"
      },
      "source": [
        "from torch.utils.data import TensorDataset, DataLoader, RandomSampler, SequentialSampler\n",
        "\n",
        "# 將訓練與驗證目標值轉為 torch.Tensor\n",
        "train_labels = torch.tensor(y_train)\n",
        "val_labels = torch.tensor(y_val)\n",
        "\n",
        "# 要微調 (fine-tuning) BERT 時, 原作者建議的 batch size 為 16 或 32\n",
        "batch_size = 32\n",
        "\n",
        "# 設定訓練與驗證集的 DataLoader\n",
        "train_data = TensorDataset(train_inputs, train_masks, train_labels)\n",
        "train_sampler = RandomSampler(train_data)\n",
        "train_dataloader = DataLoader(train_data, sampler=train_sampler, batch_size=batch_size)\n",
        "\n",
        "val_data = TensorDataset(val_inputs, val_masks, val_labels)\n",
        "val_sampler = SequentialSampler(val_data)\n",
        "val_dataloader = DataLoader(val_data, sampler=val_sampler, batch_size=batch_size)"
      ],
      "execution_count": 12,
      "outputs": []
    },
    {
      "cell_type": "markdown",
      "metadata": {
        "id": "ox_pRCMpXor1"
      },
      "source": [
        "# Step 4.3 : 設定 Bert 連接目標值的 Layer 結構"
      ]
    },
    {
      "cell_type": "code",
      "metadata": {
        "id": "pJ4yFOnFXor1",
        "colab": {
          "base_uri": "https://localhost:8080/"
        },
        "outputId": "9133fe38-324f-47b5-ede3-9b239fda6a2b"
      },
      "source": [
        "%%time\n",
        "# 載入 pytorch 與 Bert 相關套件\n",
        "import torch\n",
        "import torch.nn as nn\n",
        "from transformers import BertModel\n",
        "\n",
        "# 自定義 Bert 分類器函數\n",
        "class BertClassifier(nn.Module):\n",
        "    def __init__(self, freeze_bert=False):\n",
        "        super(BertClassifier, self).__init__()\n",
        "        # 指定 BERT 輸入長度大小(D_in), 分類器的隱藏層大小(H), 以及分類目標值的種類數量(D_out)\n",
        "        D_in, H, D_out = 768, 50, 2\n",
        "        # 載入 Bert 預訓練權重作為初始值\n",
        "        self.bert = BertModel.from_pretrained('bert-base-uncased')\n",
        "\n",
        "        # 初始化自定義分類器的類神經網路\n",
        "        self.classifier = nn.Sequential(\n",
        "            nn.Linear(D_in, H),\n",
        "            nn.ReLU(),\n",
        "            #nn.Dropout(0.5),\n",
        "            nn.Linear(H, D_out)\n",
        "        )\n",
        "        # 凍結 Bert 部分的權重\n",
        "        if freeze_bert:\n",
        "            for param in self.bert.parameters():\n",
        "                param.requires_grad = False\n",
        "        \n",
        "    def forward(self, input_ids, attention_mask):\n",
        "        # 將資料輸入 BERT\n",
        "        outputs = self.bert(input_ids=input_ids,\n",
        "                            attention_mask=attention_mask)        \n",
        "        # 將輸出結果存在 last_hidden_state_cls 中\n",
        "        last_hidden_state_cls = outputs[0][:, 0, :]\n",
        "        # 將輸出結果輸入自定義分類器\n",
        "        logits = self.classifier(last_hidden_state_cls)\n",
        "\n",
        "        return logits"
      ],
      "execution_count": 13,
      "outputs": [
        {
          "output_type": "stream",
          "text": [
            "CPU times: user 15.9 ms, sys: 4.98 ms, total: 20.9 ms\n",
            "Wall time: 25.3 ms\n"
          ],
          "name": "stdout"
        }
      ]
    },
    {
      "cell_type": "markdown",
      "metadata": {
        "id": "svrpOR7WXor2"
      },
      "source": [
        "# Step 4.4 : Optimizer & Learning Rate"
      ]
    },
    {
      "cell_type": "code",
      "metadata": {
        "id": "NrqK2yyhXor2"
      },
      "source": [
        "from transformers import AdamW, get_linear_schedule_with_warmup\n",
        "\n",
        "def initialize_model(epochs=4):\n",
        "    # 初始化 Bert 分類器\n",
        "    bert_classifier = BertClassifier(freeze_bert=False)\n",
        "    # 告訴 PyTorch 模型需要在 GPU 上執行\n",
        "    bert_classifier.to(device)\n",
        "    # 設定 optimizer\n",
        "    optimizer = AdamW(bert_classifier.parameters(),\n",
        "                      lr=5e-5,    # 預設的學習速率\n",
        "                      eps=1e-8    # 預設的 epsilon 值\n",
        "                      )\n",
        "    # 計算總共的訓練步數\n",
        "    total_steps = len(train_dataloader) * epochs\n",
        "    # 設定學習率排程\n",
        "    scheduler = get_linear_schedule_with_warmup(optimizer,\n",
        "                                                num_warmup_steps=0, # 預設值\n",
        "                                                num_training_steps=total_steps)\n",
        "    return bert_classifier, optimizer, scheduler"
      ],
      "execution_count": 14,
      "outputs": []
    },
    {
      "cell_type": "code",
      "metadata": {
        "id": "EVp2YlpxXor3"
      },
      "source": [
        "import random\n",
        "import time\n",
        "\n",
        "# 設定損失函數\n",
        "loss_fn = nn.CrossEntropyLoss()\n",
        "def set_seed(seed_value=42):\n",
        "    random.seed(seed_value)\n",
        "    np.random.seed(seed_value)\n",
        "    torch.manual_seed(seed_value)\n",
        "    torch.cuda.manual_seed_all(seed_value)\n",
        "def train(model, train_dataloader, val_dataloader=None, epochs=4, evaluation=False):\n",
        "    # 開始訓練迴圈\n",
        "    print(\"Start training...\\n\")\n",
        "    for epoch_i in range(epochs):\n",
        "        # 印出變數表格標題\n",
        "        print(f\"{'Epoch':^7} | {'Batch':^7} | {'Train Loss':^12} | {'Val Loss':^10} | {'Val Acc':^9} | {'Elapsed':^9}\")\n",
        "        print(\"-\"*70)\n",
        "        # 測量每個 epoch 的執行時間\n",
        "        t0_epoch, t0_batch = time.time(), time.time()\n",
        "        # 每個 epoch 開始時重置追蹤的變數\n",
        "        total_loss, batch_loss, batch_counts = 0, 0, 0\n",
        "        # 將模型切換到訓練模式\n",
        "        model.train()\n",
        "        # 訓練資料的每個 batch \n",
        "        for step, batch in enumerate(train_dataloader):\n",
        "            batch_counts +=1\n",
        "            # 將所有 batch 資料載入 GPU\n",
        "            b_input_ids, b_attn_mask, b_labels = tuple(t.to(device) for t in batch)\n",
        "            # 將模型中之前計算的梯度歸零\n",
        "            model.zero_grad()\n",
        "            # 執行一個向前傳遞. 這會傳回一個 logit 值\n",
        "            logits = model(b_input_ids, b_attn_mask)\n",
        "            # 計算並累加損失值\n",
        "            loss = loss_fn(logits, b_labels)\n",
        "            batch_loss += loss.item()\n",
        "            total_loss += loss.item()\n",
        "            # 執行一個向後傳遞以計算梯度\n",
        "            loss.backward()\n",
        "            # 將梯度侷限在正負 1 範圍內, 防止梯度爆炸\n",
        "            torch.nn.utils.clip_grad_norm_(model.parameters(), 1.0)\n",
        "            # 更新參數與學習率\n",
        "            optimizer.step()\n",
        "            scheduler.step()\n",
        "            # 每 20 個 batches 印出損失值與執行時間一次\n",
        "            if (step % 20 == 0 and step != 0) or (step == len(train_dataloader) - 1):\n",
        "                # 計算 20 batches 的執行時間\n",
        "                time_elapsed = time.time() - t0_batch\n",
        "                # 印出訓練結果\n",
        "                print(f\"{epoch_i + 1:^7} | {step:^7} | {batch_loss / batch_counts:^12.6f} | {'-':^10} | {'-':^9} | {time_elapsed:^9.2f}\")\n",
        "                # 重置 batch 追蹤變數\n",
        "                batch_loss, batch_counts = 0, 0\n",
        "                t0_batch = time.time()\n",
        "        # 計算全部訓練資料的平均損失值\n",
        "        avg_train_loss = total_loss / len(train_dataloader)\n",
        "\n",
        "        print(\"-\"*70)\n",
        "        if evaluation == True:\n",
        "            # 每個 epoch 訓練完畢後, 在驗證集上檢驗模型的表現\n",
        "            val_loss, val_accuracy = evaluate(model, val_dataloader)\n",
        "            time_elapsed = time.time() - t0_epoch            \n",
        "            print(f\"{epoch_i + 1:^7} | {'-':^7} | {avg_train_loss:^12.6f} | {val_loss:^10.6f} | {val_accuracy:^9.2f} | {time_elapsed:^9.2f}\")\n",
        "            print(\"-\"*70)\n",
        "        print(\"\\n\")    \n",
        "    print(\"Training complete!\")\n",
        "\n",
        "def evaluate(model, val_dataloader):\n",
        "    # 將模型切換到評量模式 : 此模式下暫停使用 dropout 層\n",
        "    model.eval()\n",
        "    # 紀錄評量函數\n",
        "    val_accuracy = []\n",
        "    val_loss = []\n",
        "    # 驗證資料的每個 batch \n",
        "    for batch in val_dataloader:\n",
        "        # 將所有 batch 資料載入 GPU\n",
        "        b_input_ids, b_attn_mask, b_labels = tuple(t.to(device) for t in batch)\n",
        "        # 計算 logit 值\n",
        "        with torch.no_grad():\n",
        "            logits = model(b_input_ids, b_attn_mask)\n",
        "        # 計算損失值\n",
        "        loss = loss_fn(logits, b_labels)\n",
        "        val_loss.append(loss.item())\n",
        "        # 取得預測值\n",
        "        preds = torch.argmax(logits, dim=1).flatten()\n",
        "        # 計算 accuracy 數值\n",
        "        accuracy = (preds == b_labels).cpu().numpy().mean() * 100\n",
        "        val_accuracy.append(accuracy)\n",
        "    # 計算全部驗證資料的平均損失值與平均 accuracy\n",
        "    val_loss = np.mean(val_loss)\n",
        "    val_accuracy = np.mean(val_accuracy)\n",
        "    return val_loss, val_accuracy"
      ],
      "execution_count": 15,
      "outputs": []
    },
    {
      "cell_type": "markdown",
      "metadata": {
        "id": "j1arU3F-Xor3"
      },
      "source": [
        "# 執行跑參 : 依機器的計算能力調整 epoch 大小"
      ]
    },
    {
      "cell_type": "code",
      "metadata": {
        "id": "BKhmQtAKXor4",
        "colab": {
          "base_uri": "https://localhost:8080/",
          "height": 1000,
          "referenced_widgets": [
            "9116e4c55c4d4a57a6dd86abc9d59b9d",
            "90e1d8f30eb945b597cab70e94ec7d57",
            "754d2008b014467e964ff3a5a0621bcc",
            "e0b39521c5734e3c8f7a12abf97e4f00",
            "8db2d58742334d6ca6f61d9cdd9cd416",
            "ea7c16842df14cb49e517bf6fa0d8db2",
            "91e77c5227bf40a593cef2bd13a211e9",
            "952652215a544d4bba3a03aee44b04f2",
            "2afe4b49e896413abc37ef3c989f4b52",
            "62365302356e4a409489a5d0b8825c47",
            "29f920668a8a4eeab7a5fe8e7d0c08d2",
            "2f56cef8534a44bda1ad6eb86fc90b9e",
            "5c25e5df12cd4064bd7845ab7f4aa9b2",
            "bc195ffef96f417486473af69c5a6572",
            "8ef445ea36ab46d7a6a02579edfbc68c",
            "818e6d17298a4eae9f56a5916889f31b"
          ]
        },
        "outputId": "7e094860-0a56-46ff-a592-56f40e60d499"
      },
      "source": [
        "set_seed(42) # 設定隨機種子\n",
        "bert_classifier, optimizer, scheduler = initialize_model(epochs=5)\n",
        "train(bert_classifier, train_dataloader, val_dataloader, epochs=5, evaluation=True)"
      ],
      "execution_count": 16,
      "outputs": [
        {
          "output_type": "display_data",
          "data": {
            "application/vnd.jupyter.widget-view+json": {
              "model_id": "9116e4c55c4d4a57a6dd86abc9d59b9d",
              "version_minor": 0,
              "version_major": 2
            },
            "text/plain": [
              "HBox(children=(FloatProgress(value=0.0, description='Downloading', max=570.0, style=ProgressStyle(description_…"
            ]
          },
          "metadata": {
            "tags": []
          }
        },
        {
          "output_type": "stream",
          "text": [
            "\n"
          ],
          "name": "stdout"
        },
        {
          "output_type": "display_data",
          "data": {
            "application/vnd.jupyter.widget-view+json": {
              "model_id": "2afe4b49e896413abc37ef3c989f4b52",
              "version_minor": 0,
              "version_major": 2
            },
            "text/plain": [
              "HBox(children=(FloatProgress(value=0.0, description='Downloading', max=440473133.0, style=ProgressStyle(descri…"
            ]
          },
          "metadata": {
            "tags": []
          }
        },
        {
          "output_type": "stream",
          "text": [
            "\n"
          ],
          "name": "stdout"
        },
        {
          "output_type": "stream",
          "text": [
            "Some weights of the model checkpoint at bert-base-uncased were not used when initializing BertModel: ['cls.predictions.transform.LayerNorm.bias', 'cls.predictions.transform.LayerNorm.weight', 'cls.predictions.decoder.weight', 'cls.predictions.transform.dense.bias', 'cls.seq_relationship.bias', 'cls.predictions.bias', 'cls.seq_relationship.weight', 'cls.predictions.transform.dense.weight']\n",
            "- This IS expected if you are initializing BertModel from the checkpoint of a model trained on another task or with another architecture (e.g. initializing a BertForSequenceClassification model from a BertForPreTraining model).\n",
            "- This IS NOT expected if you are initializing BertModel from the checkpoint of a model that you expect to be exactly identical (initializing a BertForSequenceClassification model from a BertForSequenceClassification model).\n"
          ],
          "name": "stderr"
        },
        {
          "output_type": "stream",
          "text": [
            "Start training...\n",
            "\n",
            " Epoch  |  Batch  |  Train Loss  |  Val Loss  |  Val Acc  |  Elapsed \n",
            "----------------------------------------------------------------------\n",
            "   1    |   20    |   0.562523   |     -      |     -     |   9.14   \n",
            "   1    |   40    |   0.457820   |     -      |     -     |   8.61   \n",
            "   1    |   60    |   0.435658   |     -      |     -     |   8.73   \n",
            "   1    |   80    |   0.420709   |     -      |     -     |   8.85   \n",
            "   1    |   100   |   0.391515   |     -      |     -     |   8.92   \n",
            "   1    |   120   |   0.381579   |     -      |     -     |   8.94   \n",
            "   1    |   140   |   0.411213   |     -      |     -     |   9.05   \n",
            "   1    |   160   |   0.400913   |     -      |     -     |   9.18   \n",
            "   1    |   180   |   0.399016   |     -      |     -     |   9.30   \n",
            "   1    |   200   |   0.422415   |     -      |     -     |   9.30   \n",
            "   1    |   214   |   0.407281   |     -      |     -     |   6.17   \n",
            "----------------------------------------------------------------------\n",
            "   1    |    -    |   0.427589   |  0.422082  |   80.61   |  100.15  \n",
            "----------------------------------------------------------------------\n",
            "\n",
            "\n",
            " Epoch  |  Batch  |  Train Loss  |  Val Loss  |  Val Acc  |  Elapsed \n",
            "----------------------------------------------------------------------\n",
            "   2    |   20    |   0.305366   |     -      |     -     |   10.00  \n",
            "   2    |   40    |   0.294807   |     -      |     -     |   9.56   \n",
            "   2    |   60    |   0.267428   |     -      |     -     |   9.55   \n",
            "   2    |   80    |   0.301851   |     -      |     -     |   9.63   \n",
            "   2    |   100   |   0.256964   |     -      |     -     |   9.73   \n",
            "   2    |   120   |   0.298580   |     -      |     -     |   9.81   \n",
            "   2    |   140   |   0.303804   |     -      |     -     |   9.88   \n",
            "   2    |   160   |   0.318209   |     -      |     -     |   9.94   \n",
            "   2    |   180   |   0.317480   |     -      |     -     |   10.00  \n",
            "   2    |   200   |   0.307026   |     -      |     -     |   10.06  \n",
            "   2    |   214   |   0.314523   |     -      |     -     |   6.67   \n",
            "----------------------------------------------------------------------\n",
            "   2    |    -    |   0.298321   |  0.467065  |   80.74   |  109.09  \n",
            "----------------------------------------------------------------------\n",
            "\n",
            "\n",
            " Epoch  |  Batch  |  Train Loss  |  Val Loss  |  Val Acc  |  Elapsed \n",
            "----------------------------------------------------------------------\n",
            "   3    |   20    |   0.202635   |     -      |     -     |   10.71  \n",
            "   3    |   40    |   0.233652   |     -      |     -     |   10.29  \n",
            "   3    |   60    |   0.213363   |     -      |     -     |   10.30  \n",
            "   3    |   80    |   0.209865   |     -      |     -     |   10.29  \n",
            "   3    |   100   |   0.175032   |     -      |     -     |   10.23  \n",
            "   3    |   120   |   0.193973   |     -      |     -     |   10.21  \n",
            "   3    |   140   |   0.205482   |     -      |     -     |   10.18  \n",
            "   3    |   160   |   0.173269   |     -      |     -     |   10.19  \n",
            "   3    |   180   |   0.194119   |     -      |     -     |   10.21  \n",
            "   3    |   200   |   0.211015   |     -      |     -     |   10.22  \n",
            "   3    |   214   |   0.191085   |     -      |     -     |   6.73   \n",
            "----------------------------------------------------------------------\n",
            "   3    |    -    |   0.200586   |  0.543944  |   80.87   |  113.91  \n",
            "----------------------------------------------------------------------\n",
            "\n",
            "\n",
            " Epoch  |  Batch  |  Train Loss  |  Val Loss  |  Val Acc  |  Elapsed \n",
            "----------------------------------------------------------------------\n",
            "   4    |   20    |   0.141132   |     -      |     -     |   10.74  \n",
            "   4    |   40    |   0.114535   |     -      |     -     |   10.24  \n",
            "   4    |   60    |   0.157219   |     -      |     -     |   10.26  \n",
            "   4    |   80    |   0.128445   |     -      |     -     |   10.24  \n",
            "   4    |   100   |   0.172755   |     -      |     -     |   10.27  \n",
            "   4    |   120   |   0.114422   |     -      |     -     |   10.24  \n",
            "   4    |   140   |   0.112723   |     -      |     -     |   10.27  \n",
            "   4    |   160   |   0.142694   |     -      |     -     |   10.27  \n",
            "   4    |   180   |   0.169839   |     -      |     -     |   10.28  \n",
            "   4    |   200   |   0.117722   |     -      |     -     |   10.28  \n",
            "   4    |   214   |   0.138440   |     -      |     -     |   6.75   \n",
            "----------------------------------------------------------------------\n",
            "   4    |    -    |   0.137251   |  0.658869  |   81.13   |  114.16  \n",
            "----------------------------------------------------------------------\n",
            "\n",
            "\n",
            " Epoch  |  Batch  |  Train Loss  |  Val Loss  |  Val Acc  |  Elapsed \n",
            "----------------------------------------------------------------------\n",
            "   5    |   20    |   0.123580   |     -      |     -     |   10.75  \n",
            "   5    |   40    |   0.088925   |     -      |     -     |   10.24  \n",
            "   5    |   60    |   0.104051   |     -      |     -     |   10.27  \n",
            "   5    |   80    |   0.076063   |     -      |     -     |   10.24  \n",
            "   5    |   100   |   0.059741   |     -      |     -     |   10.23  \n",
            "   5    |   120   |   0.082770   |     -      |     -     |   10.25  \n",
            "   5    |   140   |   0.080770   |     -      |     -     |   10.22  \n",
            "   5    |   160   |   0.111085   |     -      |     -     |   10.20  \n",
            "   5    |   180   |   0.106577   |     -      |     -     |   10.20  \n",
            "   5    |   200   |   0.099162   |     -      |     -     |   10.25  \n",
            "   5    |   214   |   0.092199   |     -      |     -     |   6.74   \n",
            "----------------------------------------------------------------------\n",
            "   5    |    -    |   0.093343   |  0.742860  |   80.90   |  113.91  \n",
            "----------------------------------------------------------------------\n",
            "\n",
            "\n",
            "Training complete!\n"
          ],
          "name": "stdout"
        }
      ]
    },
    {
      "cell_type": "markdown",
      "metadata": {
        "id": "9ud_N-PGXor4"
      },
      "source": [
        "# 繪製 ROC_AUC 圖形 : 藉此觀察預測效果"
      ]
    },
    {
      "cell_type": "code",
      "metadata": {
        "id": "bze2WBZIXor4"
      },
      "source": [
        "import torch.nn.functional as F\n",
        "\n",
        "def bert_predict(model, test_dataloader):\n",
        "    # 將模型切換到評量模式 : 此模式下暫停使用 dropout 層\n",
        "    model.eval()\n",
        "    all_logits = []\n",
        "\n",
        "    # 測試資料的每個 batch \n",
        "    for batch in test_dataloader:\n",
        "        # 將所有 batch 資料載入 GPU\n",
        "        b_input_ids, b_attn_mask = tuple(t.to(device) for t in batch)[:2]\n",
        "        # 計算機率\n",
        "        with torch.no_grad():\n",
        "            logits = model(b_input_ids, b_attn_mask)\n",
        "        all_logits.append(logits)    \n",
        "    # 將每個 batch 的 logit 值連結起來\n",
        "    all_logits = torch.cat(all_logits, dim=0)\n",
        "    # 使用 softmax 計算機率\n",
        "    probs = F.softmax(all_logits, dim=1).cpu().numpy()\n",
        "    return probs"
      ],
      "execution_count": 17,
      "outputs": []
    },
    {
      "cell_type": "code",
      "metadata": {
        "id": "G_fpGmmFXor5"
      },
      "source": [
        "from sklearn.metrics import accuracy_score, roc_curve, auc\n",
        "\n",
        "def evaluate_roc(probs, y_true):\n",
        "    preds = probs[:, 1]\n",
        "    fpr, tpr, threshold = roc_curve(y_true, preds)\n",
        "    roc_auc = auc(fpr, tpr)\n",
        "    print(f'AUC: {roc_auc:.4f}')       \n",
        "    # 取得測試集的 accuracy 值\n",
        "    y_pred = np.where(preds >= 0.5, 1, 0)\n",
        "    accuracy = accuracy_score(y_true, y_pred)\n",
        "    print(f'Accuracy: {accuracy*100:.2f}%')    \n",
        "    # 繪製 ROC AUC\n",
        "    plt.title('Receiver Operating Characteristic')\n",
        "    plt.plot(fpr, tpr, 'b', label = 'AUC = %0.2f' % roc_auc)\n",
        "    plt.legend(loc = 'lower right')\n",
        "    plt.plot([0, 1], [0, 1],'r--')\n",
        "    plt.xlim([0, 1])\n",
        "    plt.ylim([0, 1])\n",
        "    plt.ylabel('True Positive Rate')\n",
        "    plt.xlabel('False Positive Rate')\n",
        "    plt.show()"
      ],
      "execution_count": 18,
      "outputs": []
    },
    {
      "cell_type": "code",
      "metadata": {
        "id": "SOmM2t3hXor5",
        "colab": {
          "base_uri": "https://localhost:8080/",
          "height": 329
        },
        "outputId": "07ff104d-82f1-4b91-c562-0eb71c4378a9"
      },
      "source": [
        "# 在測試集上計算預測機率\n",
        "probs = bert_predict(bert_classifier, val_dataloader)\n",
        "# 評價 Bert 分類器\n",
        "evaluate_roc(probs, y_val)"
      ],
      "execution_count": 19,
      "outputs": [
        {
          "output_type": "stream",
          "text": [
            "AUC: 0.8681\n",
            "Accuracy: 80.84%\n"
          ],
          "name": "stdout"
        },
        {
          "output_type": "display_data",
          "data": {
            "image/png": "[encoded data removed]",
            "text/plain": [
              "<Figure size 432x288 with 1 Axes>"
            ]
          },
          "metadata": {
            "tags": [],
            "needs_background": "light"
          }
        }
      ]
    },
    {
      "cell_type": "markdown",
      "metadata": {
        "id": "QpkT_vgjXor6"
      },
      "source": [
        "# 重新以完整資料訓練模型, 並對要預測的資料進行輸出"
      ]
    },
    {
      "cell_type": "code",
      "metadata": {
        "id": "8QS47631Xor6",
        "colab": {
          "base_uri": "https://localhost:8080/"
        },
        "outputId": "47b2a45a-ea9c-4d30-9279-5e5d5e8dfd32"
      },
      "source": [
        "# 連結訓練集與驗證集\n",
        "full_train_data = torch.utils.data.ConcatDataset([train_data, val_data])\n",
        "full_train_sampler = RandomSampler(full_train_data)\n",
        "full_train_dataloader = DataLoader(full_train_data, sampler=full_train_sampler, batch_size=32)\n",
        "\n",
        "# 在完整的訓練資料上重新訓練 Bert 分類器\n",
        "set_seed(42)\n",
        "bert_classifier, optimizer, scheduler = initialize_model(epochs=2)\n",
        "train(bert_classifier, full_train_dataloader, epochs=2)"
      ],
      "execution_count": 20,
      "outputs": [
        {
          "output_type": "stream",
          "text": [
            "Some weights of the model checkpoint at bert-base-uncased were not used when initializing BertModel: ['cls.predictions.transform.LayerNorm.bias', 'cls.predictions.transform.LayerNorm.weight', 'cls.predictions.decoder.weight', 'cls.predictions.transform.dense.bias', 'cls.seq_relationship.bias', 'cls.predictions.bias', 'cls.seq_relationship.weight', 'cls.predictions.transform.dense.weight']\n",
            "- This IS expected if you are initializing BertModel from the checkpoint of a model trained on another task or with another architecture (e.g. initializing a BertForSequenceClassification model from a BertForPreTraining model).\n",
            "- This IS NOT expected if you are initializing BertModel from the checkpoint of a model that you expect to be exactly identical (initializing a BertForSequenceClassification model from a BertForSequenceClassification model).\n"
          ],
          "name": "stderr"
        },
        {
          "output_type": "stream",
          "text": [
            "Start training...\n",
            "\n",
            " Epoch  |  Batch  |  Train Loss  |  Val Loss  |  Val Acc  |  Elapsed \n",
            "----------------------------------------------------------------------\n",
            "   1    |   20    |   0.609702   |     -      |     -     |   10.70  \n",
            "   1    |   40    |   0.474951   |     -      |     -     |   10.68  \n",
            "   1    |   60    |   0.421681   |     -      |     -     |   10.86  \n",
            "   1    |   80    |   0.426225   |     -      |     -     |   10.49  \n",
            "   1    |   100   |   0.398635   |     -      |     -     |   10.21  \n",
            "   1    |   120   |   0.401644   |     -      |     -     |   10.07  \n",
            "   1    |   140   |   0.423349   |     -      |     -     |   10.04  \n",
            "   1    |   160   |   0.386726   |     -      |     -     |   10.09  \n",
            "   1    |   180   |   0.406602   |     -      |     -     |   10.24  \n",
            "   1    |   200   |   0.420713   |     -      |     -     |   10.33  \n",
            "   1    |   220   |   0.373361   |     -      |     -     |   10.39  \n",
            "   1    |   237   |   0.376514   |     -      |     -     |   8.77   \n",
            "----------------------------------------------------------------------\n",
            "\n",
            "\n",
            " Epoch  |  Batch  |  Train Loss  |  Val Loss  |  Val Acc  |  Elapsed \n",
            "----------------------------------------------------------------------\n",
            "   2    |   20    |   0.297739   |     -      |     -     |   10.78  \n",
            "   2    |   40    |   0.272663   |     -      |     -     |   10.24  \n",
            "   2    |   60    |   0.275137   |     -      |     -     |   10.22  \n",
            "   2    |   80    |   0.303940   |     -      |     -     |   10.25  \n",
            "   2    |   100   |   0.268158   |     -      |     -     |   10.24  \n",
            "   2    |   120   |   0.274575   |     -      |     -     |   10.23  \n",
            "   2    |   140   |   0.262290   |     -      |     -     |   10.25  \n",
            "   2    |   160   |   0.255681   |     -      |     -     |   10.27  \n",
            "   2    |   180   |   0.261663   |     -      |     -     |   10.26  \n",
            "   2    |   200   |   0.278164   |     -      |     -     |   10.27  \n",
            "   2    |   220   |   0.273703   |     -      |     -     |   10.30  \n",
            "   2    |   237   |   0.328933   |     -      |     -     |   8.70   \n",
            "----------------------------------------------------------------------\n",
            "\n",
            "\n",
            "Training complete!\n"
          ],
          "name": "stdout"
        }
      ]
    },
    {
      "cell_type": "code",
      "metadata": {
        "id": "5GF96sLRXor7",
        "colab": {
          "base_uri": "https://localhost:8080/",
          "height": 204
        },
        "outputId": "3f00968c-0d20-44f6-d98e-2c66a6189ad5"
      },
      "source": [
        "test_df.sample(5)"
      ],
      "execution_count": 21,
      "outputs": [
        {
          "output_type": "execute_result",
          "data": {
            "text/html": [
              "<div>\n",
              "<style scoped>\n",
              "    .dataframe tbody tr th:only-of-type {\n",
              "        vertical-align: middle;\n",
              "    }\n",
              "\n",
              "    .dataframe tbody tr th {\n",
              "        vertical-align: top;\n",
              "    }\n",
              "\n",
              "    .dataframe thead th {\n",
              "        text-align: right;\n",
              "    }\n",
              "</style>\n",
              "<table border=\"1\" class=\"dataframe\">\n",
              "  <thead>\n",
              "    <tr style=\"text-align: right;\">\n",
              "      <th></th>\n",
              "      <th>id</th>\n",
              "      <th>text</th>\n",
              "    </tr>\n",
              "  </thead>\n",
              "  <tbody>\n",
              "    <tr>\n",
              "      <th>2644</th>\n",
              "      <td>3796</td>\n",
              "      <td>So you have a new weapon that can cause un-ima...</td>\n",
              "    </tr>\n",
              "    <tr>\n",
              "      <th>2227</th>\n",
              "      <td>3185</td>\n",
              "      <td>The f$&amp;amp;@ing things I do for #GISHWHES Just...</td>\n",
              "    </tr>\n",
              "    <tr>\n",
              "      <th>5448</th>\n",
              "      <td>7769</td>\n",
              "      <td>DT @georgegalloway: RT @Galloway4Mayor: ÛÏThe...</td>\n",
              "    </tr>\n",
              "    <tr>\n",
              "      <th>132</th>\n",
              "      <td>191</td>\n",
              "      <td>Aftershock back to school kick off was great. ...</td>\n",
              "    </tr>\n",
              "    <tr>\n",
              "      <th>6845</th>\n",
              "      <td>9810</td>\n",
              "      <td>in response to trauma Children of Addicts deve...</td>\n",
              "    </tr>\n",
              "  </tbody>\n",
              "</table>\n",
              "</div>"
            ],
            "text/plain": [
              "        id                                               text\n",
              "2644  3796  So you have a new weapon that can cause un-ima...\n",
              "2227  3185  The f$&amp;@ing things I do for #GISHWHES Just...\n",
              "5448  7769  DT @georgegalloway: RT @Galloway4Mayor: ÛÏThe...\n",
              "132    191  Aftershock back to school kick off was great. ...\n",
              "6845  9810  in response to trauma Children of Addicts deve..."
            ]
          },
          "metadata": {
            "tags": []
          },
          "execution_count": 21
        }
      ]
    },
    {
      "cell_type": "code",
      "metadata": {
        "id": "XSq4tjgkXor7",
        "colab": {
          "base_uri": "https://localhost:8080/"
        },
        "outputId": "5a010833-f202-4cd0-a89f-af32804cd53d"
      },
      "source": [
        "# 在測試集推文上執行 `preprocessing_for_bert` 函數\n",
        "print('Tokenizing data...')\n",
        "test_inputs, test_masks = preprocessing_for_bert(test_df['text'])\n",
        "# 宣告測試集的 DataLoader\n",
        "test_dataset = TensorDataset(test_inputs, test_masks)\n",
        "test_sampler = SequentialSampler(test_dataset)\n",
        "test_dataloader = DataLoader(test_dataset, sampler=test_sampler, batch_size=32)"
      ],
      "execution_count": 22,
      "outputs": [
        {
          "output_type": "stream",
          "text": [
            "Tokenizing data...\n"
          ],
          "name": "stdout"
        }
      ]
    },
    {
      "cell_type": "code",
      "metadata": {
        "id": "-DCvA6pmXor7",
        "colab": {
          "base_uri": "https://localhost:8080/"
        },
        "outputId": "0bea9cd6-8f2a-4f31-9e8c-4f6a8e3265a5"
      },
      "source": [
        "# 在測試資料上計算最終預測機率\n",
        "probs = bert_predict(bert_classifier, test_dataloader)\n",
        "# 將機率值轉為預測(超過門檻的預測為 1, 否則為 0)\n",
        "threshold = 0.9\n",
        "preds = np.where(probs[:, 1] > threshold, 1, 0)\n",
        "# 顯示被判定為\n",
        "print(\"Number of tweets predicted non-negative: \", preds.sum())"
      ],
      "execution_count": 23,
      "outputs": [
        {
          "output_type": "stream",
          "text": [
            "Number of tweets predicted non-negative:  2599\n"
          ],
          "name": "stdout"
        }
      ]
    },
    {
      "cell_type": "markdown",
      "metadata": {
        "id": "Jp9FPd8h1e_v"
      },
      "source": [
        "# Inference"
      ]
    },
    {
      "cell_type": "code",
      "metadata": {
        "colab": {
          "base_uri": "https://localhost:8080/",
          "height": 35
        },
        "id": "npk7qY6xzIcA",
        "outputId": "2c37d177-6fad-4ad5-8227-f8e04dcb2107"
      },
      "source": [
        "s = test_df['text'][10]\n",
        "s"
      ],
      "execution_count": 24,
      "outputs": [
        {
          "output_type": "execute_result",
          "data": {
            "application/vnd.google.colaboratory.intrinsic+json": {
              "type": "string"
            },
            "text/plain": [
              "'Three people died from the heat wave so far'"
            ]
          },
          "metadata": {
            "tags": []
          },
          "execution_count": 24
        }
      ]
    },
    {
      "cell_type": "code",
      "metadata": {
        "colab": {
          "base_uri": "https://localhost:8080/"
        },
        "id": "uWOyEKodzPB3",
        "outputId": "a2ebd666-086c-48c0-9ee4-5f46b9d3eb55"
      },
      "source": [
        "encoded_s = tokenizer.encode_plus(\n",
        "            text=text_preprocessing(s),  # 套用簡化版前處理函數\n",
        "            add_special_tokens=True,        # 加上 `[CLS]` 與 `[SEP]`\n",
        "            max_length=MAX_LEN,             # 需要填充的最大長度\n",
        "            pad_to_max_length=True,         # 是否要填充到最大長度\n",
        "            return_attention_mask=True      # 是否傳回 attention mask\n",
        "            )       \n",
        "input_ids = encoded_s.get('input_ids')\n",
        "attention_mask = encoded_s.get('attention_mask')\n",
        "input_ids = torch.tensor(input_ids).to(device)\n",
        "input_ids = torch.unsqueeze(input_ids, 0)\n",
        "attention_mask = torch.tensor(attention_mask).to(device)\n",
        "attention_mask = torch.unsqueeze(attention_mask, 0)\n",
        "\n",
        "with torch.no_grad():\n",
        "  logit = bert_classifier(input_ids, attention_mask)\n",
        "prob = F.softmax(logit, dim=1).cpu().numpy()\n",
        "prob"
      ],
      "execution_count": 29,
      "outputs": [
        {
          "output_type": "execute_result",
          "data": {
            "text/plain": [
              "array([[0.01035156, 0.9896485 ]], dtype=float32)"
            ]
          },
          "metadata": {
            "tags": []
          },
          "execution_count": 29
        }
      ]
    },
    {
      "cell_type": "code",
      "metadata": {
        "id": "oQg5uQWAXor9"
      },
      "source": [
        ""
      ],
      "execution_count": null,
      "outputs": []
    }
  ]
}