{
 "cells": [
  {
   "cell_type": "code",
   "execution_count": 1,
   "metadata": {
    "tags": []
   },
   "outputs": [
    {
     "output_type": "stream",
     "name": "stdout",
     "text": "Python 3.6.8\n"
    }
   ],
   "source": [
    "!python --version"
   ]
  },
  {
   "cell_type": "code",
   "execution_count": 2,
   "metadata": {},
   "outputs": [],
   "source": [
    "!pip install -q -U pip\n",
    "!pip install -q numpy\n",
    "!pip install -q pandas\n",
    "!pip install -q ckiptagger\n",
    "!pip install -q tqdm\n",
    "!pip install -q tensorflow==1.14.0\n",
    "!pip install -q ipywidgets\n",
    "!pip install -q matplotlib"
   ]
  },
  {
   "cell_type": "code",
   "execution_count": 3,
   "metadata": {},
   "outputs": [],
   "source": [
    "import pandas as pd\n",
    "import numpy as np\n",
    "\n",
    "from ckiptagger import WS, POS\n",
    "from tqdm.notebook import tqdm"
   ]
  },
  {
   "cell_type": "code",
   "execution_count": 4,
   "metadata": {},
   "outputs": [],
   "source": [
    "df_train = pd.read_csv('news_clustering_train.tsv', sep='\\t')\n",
    "df_test = pd.read_csv('news_clustering_test.tsv', sep='\\t')"
   ]
  },
  {
   "cell_type": "code",
   "execution_count": 5,
   "metadata": {},
   "outputs": [],
   "source": [
    "train_titles = {row['index']: row['title'] for _, row in df_train.iterrows()}\n",
    "train_classes = {row['index']: row['class'] for _, row in df_train.iterrows()}\n",
    "\n",
    "test_titles = {row['index']: row['title'] for _, row in df_test.iterrows()}\n",
    "test_classes = {row['index']: row['class'] for _, row in df_test.iterrows()}"
   ]
  },
  {
   "cell_type": "code",
   "execution_count": 6,
   "metadata": {},
   "outputs": [],
   "source": [
    "all_news_class = ['體育', '財經', '科技', '旅遊', '農業', '遊戲']"
   ]
  },
  {
   "cell_type": "markdown",
   "metadata": {},
   "source": [
    "# 斷詞 + POS"
   ]
  },
  {
   "cell_type": "code",
   "execution_count": 7,
   "metadata": {
    "tags": []
   },
   "outputs": [
    {
     "output_type": "stream",
     "name": "stdout",
     "text": "WARNING: Entity <bound method LSTMCell.call of <tensorflow.python.ops.rnn_cell_impl.LSTMCell object at 0x7f9a6203b4a8>> could not be transformed and will be executed as-is. Please report this to the AutgoGraph team. When filing the bug, set the verbosity to 10 (on Linux, `export AUTOGRAPH_VERBOSITY=10`) and attach the full output. Cause: converting <bound method LSTMCell.call of <tensorflow.python.ops.rnn_cell_impl.LSTMCell object at 0x7f9a6203b4a8>>: AttributeError: module 'gast' has no attribute 'Index'\nWARNING: Entity <bound method LSTMCell.call of <tensorflow.python.ops.rnn_cell_impl.LSTMCell object at 0x7f9a6203b9e8>> could not be transformed and will be executed as-is. Please report this to the AutgoGraph team. When filing the bug, set the verbosity to 10 (on Linux, `export AUTOGRAPH_VERBOSITY=10`) and attach the full output. Cause: converting <bound method LSTMCell.call of <tensorflow.python.ops.rnn_cell_impl.LSTMCell object at 0x7f9a6203b9e8>>: AttributeError: module 'gast' has no attribute 'Index'\nWARNING: Entity <bound method LSTMCell.call of <tensorflow.python.ops.rnn_cell_impl.LSTMCell object at 0x7f9a5af75ba8>> could not be transformed and will be executed as-is. Please report this to the AutgoGraph team. When filing the bug, set the verbosity to 10 (on Linux, `export AUTOGRAPH_VERBOSITY=10`) and attach the full output. Cause: converting <bound method LSTMCell.call of <tensorflow.python.ops.rnn_cell_impl.LSTMCell object at 0x7f9a5af75ba8>>: AttributeError: module 'gast' has no attribute 'Index'\nWARNING: Entity <bound method LSTMCell.call of <tensorflow.python.ops.rnn_cell_impl.LSTMCell object at 0x7f9a62054e10>> could not be transformed and will be executed as-is. Please report this to the AutgoGraph team. When filing the bug, set the verbosity to 10 (on Linux, `export AUTOGRAPH_VERBOSITY=10`) and attach the full output. Cause: converting <bound method LSTMCell.call of <tensorflow.python.ops.rnn_cell_impl.LSTMCell object at 0x7f9a62054e10>>: AttributeError: module 'gast' has no attribute 'Index'\nWARNING: Entity <bound method Dense.call of <tensorflow.python.layers.core.Dense object at 0x7f9a6046b2b0>> could not be transformed and will be executed as-is. Please report this to the AutgoGraph team. When filing the bug, set the verbosity to 10 (on Linux, `export AUTOGRAPH_VERBOSITY=10`) and attach the full output. Cause: converting <bound method Dense.call of <tensorflow.python.layers.core.Dense object at 0x7f9a6046b2b0>>: AttributeError: module 'gast' has no attribute 'Index'\nWARNING: Entity <bound method LSTMCell.call of <tensorflow.python.ops.rnn_cell_impl.LSTMCell object at 0x7f9a06c434e0>> could not be transformed and will be executed as-is. Please report this to the AutgoGraph team. When filing the bug, set the verbosity to 10 (on Linux, `export AUTOGRAPH_VERBOSITY=10`) and attach the full output. Cause: converting <bound method LSTMCell.call of <tensorflow.python.ops.rnn_cell_impl.LSTMCell object at 0x7f9a06c434e0>>: AttributeError: module 'gast' has no attribute 'Index'\nWARNING: Entity <bound method LSTMCell.call of <tensorflow.python.ops.rnn_cell_impl.LSTMCell object at 0x7f9a06c43470>> could not be transformed and will be executed as-is. Please report this to the AutgoGraph team. When filing the bug, set the verbosity to 10 (on Linux, `export AUTOGRAPH_VERBOSITY=10`) and attach the full output. Cause: converting <bound method LSTMCell.call of <tensorflow.python.ops.rnn_cell_impl.LSTMCell object at 0x7f9a06c43470>>: AttributeError: module 'gast' has no attribute 'Index'\nWARNING: Entity <bound method LSTMCell.call of <tensorflow.python.ops.rnn_cell_impl.LSTMCell object at 0x7f9a06c435c0>> could not be transformed and will be executed as-is. Please report this to the AutgoGraph team. When filing the bug, set the verbosity to 10 (on Linux, `export AUTOGRAPH_VERBOSITY=10`) and attach the full output. Cause: converting <bound method LSTMCell.call of <tensorflow.python.ops.rnn_cell_impl.LSTMCell object at 0x7f9a06c435c0>>: AttributeError: module 'gast' has no attribute 'Index'\nWARNING: Entity <bound method LSTMCell.call of <tensorflow.python.ops.rnn_cell_impl.LSTMCell object at 0x7f9a06c64f98>> could not be transformed and will be executed as-is. Please report this to the AutgoGraph team. When filing the bug, set the verbosity to 10 (on Linux, `export AUTOGRAPH_VERBOSITY=10`) and attach the full output. Cause: converting <bound method LSTMCell.call of <tensorflow.python.ops.rnn_cell_impl.LSTMCell object at 0x7f9a06c64f98>>: AttributeError: module 'gast' has no attribute 'Index'\nWARNING: Entity <bound method Dense.call of <tensorflow.python.layers.core.Dense object at 0x7f9a46ea8940>> could not be transformed and will be executed as-is. Please report this to the AutgoGraph team. When filing the bug, set the verbosity to 10 (on Linux, `export AUTOGRAPH_VERBOSITY=10`) and attach the full output. Cause: converting <bound method Dense.call of <tensorflow.python.layers.core.Dense object at 0x7f9a46ea8940>>: AttributeError: module 'gast' has no attribute 'Index'\n"
    }
   ],
   "source": [
    "ws = WS('./data/')\n",
    "pos = POS('./data/')"
   ]
  },
  {
   "cell_type": "code",
   "execution_count": 8,
   "metadata": {
    "tags": []
   },
   "outputs": [
    {
     "output_type": "display_data",
     "data": {
      "text/plain": "HBox(children=(FloatProgress(value=0.0, max=1800.0), HTML(value='')))",
      "application/vnd.jupyter.widget-view+json": {
       "version_major": 2,
       "version_minor": 0,
       "model_id": "06c53c3899a34f0990be2edffe833879"
      }
     },
     "metadata": {}
    },
    {
     "output_type": "stream",
     "name": "stdout",
     "text": "\n"
    }
   ],
   "source": [
    "train_title_cuts = {}\n",
    "for index, title in tqdm(train_titles.items()):\n",
    "    word_s = ws([title])\n",
    "    word_p = pos(word_s)\n",
    "    train_title_cuts[index] = list(zip(word_s[0], word_p[0]))"
   ]
  },
  {
   "cell_type": "code",
   "execution_count": 9,
   "metadata": {
    "tags": []
   },
   "outputs": [
    {
     "output_type": "display_data",
     "data": {
      "text/plain": "HBox(children=(FloatProgress(value=0.0, max=600.0), HTML(value='')))",
      "application/vnd.jupyter.widget-view+json": {
       "version_major": 2,
       "version_minor": 0,
       "model_id": "c7a9c45cf3c3424b9e606c986dff44f8"
      }
     },
     "metadata": {}
    },
    {
     "output_type": "stream",
     "name": "stdout",
     "text": "\n"
    }
   ],
   "source": [
    "test_title_cuts = {}\n",
    "for index, title in tqdm(test_titles.items()):\n",
    "    word_s = ws([title])\n",
    "    word_p = pos(word_s)\n",
    "    test_title_cuts[index] = list(zip(word_s[0], word_p[0]))"
   ]
  },
  {
   "cell_type": "markdown",
   "metadata": {},
   "source": [
    "# 尋找降維的詞向量：PPMI + SVD"
   ]
  },
  {
   "cell_type": "code",
   "execution_count": 10,
   "metadata": {},
   "outputs": [],
   "source": [
    "word2index = {}\n",
    "index2word = {}\n",
    "n = 0\n",
    "for index in train_title_cuts:\n",
    "    for word, flag in train_title_cuts[index]:\n",
    "        if word in word2index:\n",
    "            continue\n",
    "        word2index[word] = n \n",
    "        index2word[n] = word\n",
    "        n += 1"
   ]
  },
  {
   "cell_type": "code",
   "execution_count": 11,
   "metadata": {},
   "outputs": [
    {
     "output_type": "execute_result",
     "data": {
      "text/plain": "6690"
     },
     "metadata": {},
     "execution_count": 11
    }
   ],
   "source": [
    "len(word2index)"
   ]
  },
  {
   "cell_type": "markdown",
   "metadata": {},
   "source": [
    "如果使用one-hot就需要這麼大的維度的詞向量"
   ]
  },
  {
   "cell_type": "code",
   "execution_count": 12,
   "metadata": {},
   "outputs": [],
   "source": [
    "# 建立Co-Matrix\n",
    "\n",
    "vocab_size = len(word2index)\n",
    "co_matrix = np.zeros(shape=(vocab_size, vocab_size), dtype=np.int32)\n",
    "\n",
    "window_size = 1\n",
    "# YOUR CODE HERE\n",
    "\n",
    "# END YOUR CODE"
   ]
  },
  {
   "cell_type": "code",
   "execution_count": 13,
   "metadata": {},
   "outputs": [
    {
     "output_type": "execute_result",
     "data": {
      "text/plain": "array([[0, 2, 0, ..., 0, 0, 0],\n       [2, 0, 1, ..., 0, 0, 0],\n       [0, 1, 0, ..., 0, 0, 0],\n       ...,\n       [0, 0, 0, ..., 0, 0, 0],\n       [0, 0, 0, ..., 0, 0, 0],\n       [0, 0, 0, ..., 0, 0, 0]], dtype=int32)"
     },
     "metadata": {},
     "execution_count": 13
    }
   ],
   "source": [
    "co_matrix"
   ]
  },
  {
   "cell_type": "code",
   "execution_count": 14,
   "metadata": {
    "tags": []
   },
   "outputs": [
    {
     "output_type": "display_data",
     "data": {
      "text/plain": "HBox(children=(FloatProgress(value=0.0, max=6690.0), HTML(value='')))",
      "application/vnd.jupyter.widget-view+json": {
       "version_major": 2,
       "version_minor": 0,
       "model_id": "7dc567d32dcd464db1f1ab683e9f6780"
      }
     },
     "metadata": {}
    },
    {
     "output_type": "stream",
     "name": "stdout",
     "text": "\n"
    }
   ],
   "source": [
    "# 建立PPMI\n",
    "\n",
    "def get_ppmi(co_matrix: np.ndarray, eps: float=1e-8):\n",
    "    # YOUR CODE HERE\n",
    "\n",
    "    # END YOUR CODE\n",
    "    return M\n",
    "\n",
    "ppmi = get_ppmi(co_matrix)"
   ]
  },
  {
   "cell_type": "code",
   "execution_count": 15,
   "metadata": {},
   "outputs": [
    {
     "output_type": "execute_result",
     "data": {
      "text/plain": "array([[ 0.      ,  9.267157,  0.      , ...,  0.      ,  0.      ,\n         0.      ],\n       [ 9.267157,  0.      , 11.515084, ...,  0.      ,  0.      ,\n         0.      ],\n       [ 0.      , 11.515084,  0.      , ...,  0.      ,  0.      ,\n         0.      ],\n       ...,\n       [ 0.      ,  0.      ,  0.      , ...,  0.      ,  0.      ,\n         0.      ],\n       [ 0.      ,  0.      ,  0.      , ...,  0.      ,  0.      ,\n         0.      ],\n       [ 0.      ,  0.      ,  0.      , ...,  0.      ,  0.      ,\n         0.      ]], dtype=float32)"
     },
     "metadata": {},
     "execution_count": 15
    }
   ],
   "source": [
    "ppmi"
   ]
  },
  {
   "cell_type": "code",
   "execution_count": 16,
   "metadata": {},
   "outputs": [],
   "source": [
    "# 進行SVD分解，並得到降維的詞向量\n",
    "\n",
    "from sklearn.decomposition import TruncatedSVD\n",
    "\n",
    "# 使用`TruncatedSVD`進行降維，降維到dim=1000\n",
    "# YOUR CODE HERE\n",
    "\n",
    "# END YOUR CODE"
   ]
  },
  {
   "cell_type": "code",
   "execution_count": 17,
   "metadata": {},
   "outputs": [
    {
     "output_type": "execute_result",
     "data": {
      "text/plain": "(6690, 1000)"
     },
     "metadata": {},
     "execution_count": 17
    }
   ],
   "source": [
    "word_vectors.shape"
   ]
  },
  {
   "cell_type": "markdown",
   "metadata": {},
   "source": [
    "# 新的詞向量 + Group mean vector: 測試"
   ]
  },
  {
   "cell_type": "code",
   "execution_count": 18,
   "metadata": {},
   "outputs": [],
   "source": [
    "excluded_flags = [\n",
    "    'Nh', 'Nep', 'Nes', 'DE', 'T', 'P', 'V_2', 'SHI',\n",
    "    'Dfa', 'Dfb', 'Da', 'Di', 'Dk',\n",
    "    'Caa', 'Cab', 'Cba', 'Cbb',\n",
    "    'COLONCATEGORY', 'COMMACATEGORY', 'DASHCATEGORY', 'DOTCATEGORY', 'ETCCATEGORY', 'EXCLAMATIONCATEGORY',\n",
    "    'PARENTHESISCATEGORY', 'PAUSECATEGORY', 'PERIODCATEGORY', 'QUESTIONCATEGORY', 'SEMICOLONCATEGORY',\n",
    "    'SPCHANGECATEGORY', 'WHITESPACE'\n",
    "]"
   ]
  },
  {
   "cell_type": "code",
   "execution_count": 19,
   "metadata": {
    "tags": []
   },
   "outputs": [],
   "source": [
    "train_svd_vectors = {}\n",
    "for index, pairs in train_title_cuts.items():\n",
    "    selected_word_vectors = []\n",
    "    for word, flag in pairs:\n",
    "        if word in word2index and flag not in excluded_flags:\n",
    "            selected_word_vectors.append(word_vectors[word2index[word], :])\n",
    "    vector = np.sum(selected_word_vectors, axis=0)\n",
    "    if np.sum(np.square(vector)) == 0:\n",
    "        continue\n",
    "    train_svd_vectors[index] = vector\n",
    "    "
   ]
  },
  {
   "cell_type": "code",
   "execution_count": 20,
   "metadata": {},
   "outputs": [],
   "source": [
    "test_svd_vectors = {}\n",
    "for index, pairs in test_title_cuts.items():\n",
    "    selected_word_vectors = []\n",
    "    for word, flag in pairs:\n",
    "        if word in word2index and flag not in excluded_flags:\n",
    "            selected_word_vectors.append(word_vectors[word2index[word], :])\n",
    "    vector = np.sum(selected_word_vectors, axis=0)\n",
    "    if np.sum(np.square(vector)) == 0:\n",
    "        continue\n",
    "    test_svd_vectors[index] = vector"
   ]
  },
  {
   "cell_type": "code",
   "execution_count": 21,
   "metadata": {},
   "outputs": [],
   "source": [
    "group_vectors = {news_class: [] for news_class in all_news_class}\n",
    "for index, vector in sorted(train_svd_vectors.items()):\n",
    "    news_class = train_classes[index]\n",
    "    group_vectors[news_class].append(vector)\n",
    "\n",
    "group_mean_vector = {}\n",
    "for news_class, vectors in group_vectors.items():\n",
    "    group_mean_vector[news_class] = np.mean(vectors, axis=0)"
   ]
  },
  {
   "cell_type": "code",
   "execution_count": 22,
   "metadata": {},
   "outputs": [],
   "source": [
    "def cosine_similarity(bow1, bow2):\n",
    "    len_bow1 = np.sqrt(np.sum(np.square(bow1)))\n",
    "    len_bow2 = np.sqrt(np.sum(np.square(bow2)))\n",
    "    return np.sum(bow1 * bow2) / (len_bow1 * len_bow2)"
   ]
  },
  {
   "cell_type": "code",
   "execution_count": 23,
   "metadata": {},
   "outputs": [],
   "source": [
    "classification = {news_class: [] for news_class in all_news_class}\n",
    "for index, vector in sorted(test_svd_vectors.items()):\n",
    "    if np.sum(np.square(vector)) == 0:\n",
    "        continue\n",
    "\n",
    "    max_val = -2.0\n",
    "    max_class = None\n",
    "    for news_class, ref_vector in group_mean_vector.items():\n",
    "        val = cosine_similarity(ref_vector, vector)\n",
    "        if val > max_val:\n",
    "            max_class = news_class\n",
    "            max_val = val\n",
    "\n",
    "    classification[max_class].append(index)"
   ]
  },
  {
   "cell_type": "code",
   "execution_count": 24,
   "metadata": {
    "tags": []
   },
   "outputs": [
    {
     "output_type": "stream",
     "name": "stdout",
     "text": "predict 體育 :  Counter({'體育': 61, '遊戲': 10, '旅遊': 9, '財經': 8, '科技': 5, '農業': 4})\npredict 財經 :  Counter({'財經': 62, '科技': 25, '農業': 16, '體育': 8, '遊戲': 8, '旅遊': 7})\npredict 科技 :  Counter({'科技': 51, '體育': 15, '財經': 14, '農業': 9, '遊戲': 9, '旅遊': 8})\npredict 旅遊 :  Counter({'旅遊': 58, '農業': 11, '科技': 5, '財經': 4, '體育': 2, '遊戲': 2})\npredict 農業 :  Counter({'農業': 58, '旅遊': 7, '體育': 4, '財經': 4, '遊戲': 4, '科技': 2})\npredict 遊戲 :  Counter({'遊戲': 67, '科技': 11, '旅遊': 9, '體育': 8, '財經': 8, '農業': 1})\n"
    }
   ],
   "source": [
    "from collections import Counter\n",
    "\n",
    "for group, ids in classification.items():\n",
    "    counter = Counter([test_classes[id] for id in ids])\n",
    "    print('predict', group, ': ', counter)"
   ]
  }
 ],
 "metadata": {
  "language_info": {
   "codemirror_mode": {
    "name": "ipython",
    "version": 3
   },
   "file_extension": ".py",
   "mimetype": "text/x-python",
   "name": "python",
   "nbconvert_exporter": "python",
   "pygments_lexer": "ipython3",
   "version": 3
  },
  "orig_nbformat": 2,
  "kernelspec": {
   "name": "python_defaultSpec_1597542987315",
   "display_name": "Python 3.6.8 64-bit ('ENV': venv)"
  }
 },
 "nbformat": 4,
 "nbformat_minor": 2
}